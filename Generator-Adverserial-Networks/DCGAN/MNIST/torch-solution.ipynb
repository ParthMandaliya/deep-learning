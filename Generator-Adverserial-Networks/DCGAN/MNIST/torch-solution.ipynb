{
 "cells": [
  {
   "cell_type": "code",
   "execution_count": 1,
   "metadata": {},
   "outputs": [],
   "source": [
    "import torch as pt\n",
    "from torchvision.datasets import MNIST\n",
    "from torchvision import transforms\n",
    "from torch.utils.data import DataLoader\n",
    "from torchvision.utils import make_grid\n",
    "from torchvision.utils import save_image\n",
    "\n",
    "from matplotlib import pyplot as plt\n",
    "%matplotlib inline"
   ]
  },
  {
   "cell_type": "code",
   "execution_count": 2,
   "metadata": {},
   "outputs": [],
   "source": [
    "transforms_ = transforms.Compose([\n",
    "    transforms.ToTensor(),\n",
    "    transforms.Normalize(mean=(0.5), std=(0.5)),\n",
    "])"
   ]
  },
  {
   "cell_type": "code",
   "execution_count": 3,
   "metadata": {},
   "outputs": [],
   "source": [
    "device = \"cuda\" if pt.cuda.is_available() else \"cpu\"\n",
    "latent_dim = 100\n",
    "batch_size = 64\n",
    "gen_lr = 2e-4\n",
    "disc_lr = 2e-4\n",
    "epochs = 50\n",
    "stats = (0.5), (0.5)"
   ]
  },
  {
   "cell_type": "code",
   "execution_count": 4,
   "metadata": {},
   "outputs": [],
   "source": [
    "train_dataset = MNIST(\"./data\", train=True, download=True, transform=transforms_)\n",
    "train_loader = DataLoader(train_dataset, batch_size=batch_size, shuffle=True)\n",
    "\n",
    "test_dataset = MNIST(\"./data\", train=False, download=True, transform=transforms_)\n",
    "test_loader = DataLoader(test_dataset, batch_size=batch_size, shuffle=True)"
   ]
  },
  {
   "cell_type": "code",
   "execution_count": 5,
   "metadata": {},
   "outputs": [],
   "source": [
    "# def denorm(img_tensors):\n",
    "#     return img_tensors * stats[1][0] + stats[0][0]"
   ]
  },
  {
   "cell_type": "code",
   "execution_count": 6,
   "metadata": {},
   "outputs": [],
   "source": [
    "def show_images(images, n_max=batch_size):\n",
    "    _, ax = plt.subplots(figsize=(8, 8))\n",
    "    ax.set_xticks([]); ax.set_yticks([])\n",
    "    # ax.imshow(make_grid(denorm(images.detach().cpu()[:n_max]), nrow=8).permute(1, 2, 0))\n",
    "    ax.imshow(images.detach().cpu()[:n_max]).permute(1, 2, 0)"
   ]
  },
  {
   "cell_type": "code",
   "execution_count": 7,
   "metadata": {},
   "outputs": [],
   "source": [
    "from torch import nn\n",
    "from torch.nn import functional as F"
   ]
  },
  {
   "cell_type": "code",
   "execution_count": 8,
   "metadata": {},
   "outputs": [],
   "source": [
    "class Generator(nn.Module):\n",
    "    def __init__(self, latent_dim, *args, **kwargs):\n",
    "        super().__init__(*args, **kwargs)\n",
    "\n",
    "        self.conv_transpose_block1 = nn.Sequential(\n",
    "            nn.ConvTranspose2d(latent_dim, 512, kernel_size=8, padding=0, stride=2, bias=False),\n",
    "            nn.BatchNorm2d(512),\n",
    "            nn.ReLU(True), # (64 (batch_size), 256 (output_shape), 4 (kernel_size), 4 (kernel_size))\n",
    "\n",
    "            nn.ConvTranspose2d(512, 256, kernel_size=6, padding=1, stride=2, bias=False),\n",
    "            nn.BatchNorm2d(256),\n",
    "            nn.ReLU(True), # (64, 256, 14, 14) (..., ..., (prev kernel total) + (current kernel), (prev kernel total) + (current kernel))\n",
    "\n",
    "            nn.ConvTranspose2d(256, 128, kernel_size=4, padding=1, stride=2, bias=False),\n",
    "            nn.BatchNorm2d(128),\n",
    "            nn.ReLU(True), # (64, 128, 19, 19)\n",
    "\n",
    "            nn.ConvTranspose2d(128, 64, kernel_size=3, padding=1, stride=1, bias=False),\n",
    "            nn.BatchNorm2d(64),\n",
    "            nn.ReLU(True), # (64, 64, 22, 22)\n",
    "\n",
    "            # nn.ConvTranspose2d(64, 32, kernel_size=4, padding=1, stride=2, bias=True),\n",
    "            # nn.BatchNorm2d(32),\n",
    "            # nn.ReLU(True), # (64, 32, 26, 26)\n",
    "\n",
    "            # nn.ConvTranspose2d(32, 28, kernel_size=2, padding=1, stride=2, bias=True),\n",
    "            # nn.BatchNorm2d(28),\n",
    "            # nn.ReLU(True), # (64, 28, 28, 28)\n",
    "\n",
    "            # nn.Conv2d(32, 1, kernel_size=4, padding=1, stride=2, bias=True),\n",
    "            # ((6 - 4) + (2*1) / 2) + 1 = 3\n",
    "        )\n",
    "\n",
    "    def forward(self, x):\n",
    "        x = self.conv_transpose_block1(x)\n",
    "        print(f\"x.size(): {x.size()}\")\n",
    "        return F.tanh(x)"
   ]
  },
  {
   "cell_type": "code",
   "execution_count": 9,
   "metadata": {},
   "outputs": [
    {
     "name": "stdout",
     "output_type": "stream",
     "text": [
      "x.size(): torch.Size([64, 64, 36, 36])\n"
     ]
    },
    {
     "name": "stderr",
     "output_type": "stream",
     "text": [
      "/home/parth/miniconda3/envs/env-pytorch/lib/python3.8/site-packages/torch/nn/modules/conv.py:956: UserWarning: Applied workaround for CuDNN issue, install nvrtc.so (Triggered internally at /opt/conda/conda-bld/pytorch_1682343998658/work/aten/src/ATen/native/cudnn/Conv_v8.cpp:80.)\n",
      "  return F.conv_transpose2d(\n"
     ]
    }
   ],
   "source": [
    "generator = Generator(latent_dim).to(device)\n",
    "\n",
    "xb = pt.randn(batch_size, latent_dim, 1, 1) # random latent tensors - (columns (width), rows (height), 1, 1)\n",
    "# print(f\"xb.size(): {xb.size()}\")\n",
    "fake_images = generator(xb.to(device))\n",
    "# print(fake_images.shape)\n",
    "# show_images(fake_images)"
   ]
  },
  {
   "cell_type": "code",
   "execution_count": null,
   "metadata": {},
   "outputs": [],
   "source": [
    "class Discriminator(nn.Module):\n",
    "    def __init__(self, *args, **kwargs) -> None:\n",
    "        super().__init__(*args, **kwargs)\n",
    "        self.discriminator = nn.Sequential(\n",
    "            nn.Conv2d(1, 64, kernel_size=3, stride=1, padding=1, bias=False),\n",
    "            nn.BatchNorm2d(64),\n",
    "            nn.MaxPool2d(2),\n",
    "            nn.LeakyReLU(0.2, inplace=True),\n",
    "            # (28 – 3 + (2*1)) / 1 + 1 = 28 / maxpool = 14\n",
    "\n",
    "            nn.Conv2d(64, 128, kernel_size=3, stride=1, padding=1, bias=False),\n",
    "            nn.BatchNorm2d(128),\n",
    "            nn.MaxPool2d(2),\n",
    "            nn.LeakyReLU(0.2, inplace=True),\n",
    "            # (14 – 3 + (2*1)) / 1 + 1 = 14 / maxpool = 7\n",
    "\n",
    "            nn.Conv2d(128, 256, kernel_size=3, stride=1, padding=1, bias=False),\n",
    "            nn.BatchNorm2d(256),\n",
    "            nn.MaxPool2d(2),\n",
    "            nn.LeakyReLU(0.2, inplace=True),\n",
    "            # (7 – 3 + (2*1)) / 1 + 1 = 7 / maxpool = 3\n",
    "        )\n",
    "        self.dense1 = nn.Linear(256*3*3, 1)\n",
    "        # self.dropout = nn.Dropout(0.5)\n",
    "        # self.dense2 = nn.Linear(512, 1)\n",
    "\n",
    "    def forward(self, x):\n",
    "        x = self.discriminator(x)\n",
    "        x = x.view(-1, 256*4*4)\n",
    "        x = self.dense1(x)\n",
    "        # x = self.dropout(x)\n",
    "        # x = self.dense2(x)\n",
    "        return F.sigmoid(x)"
   ]
  },
  {
   "cell_type": "code",
   "execution_count": null,
   "metadata": {},
   "outputs": [],
   "source": [
    "discriminator = Discriminator().to(device)"
   ]
  },
  {
   "cell_type": "code",
   "execution_count": null,
   "metadata": {},
   "outputs": [],
   "source": [
    "def train_generator(opt_g):\n",
    "    # Clear generator gradients\n",
    "    opt_g.zero_grad()\n",
    "\n",
    "    # Generate fake images\n",
    "    latent = pt.randn(batch_size, latent_dim, 1, 1, device=device)\n",
    "    fake_images = generator.train()(latent)\n",
    "\n",
    "    # Try to fool the discriminator\n",
    "    preds = discriminator(fake_images)\n",
    "    targets = pt.ones(batch_size, 1, device=device)\n",
    "    loss = F.binary_cross_entropy(preds, targets)\n",
    "\n",
    "    # Update generator weights\n",
    "    loss.backward()\n",
    "    opt_g.step()\n",
    "\n",
    "    return loss.item()"
   ]
  },
  {
   "cell_type": "code",
   "execution_count": null,
   "metadata": {},
   "outputs": [],
   "source": [
    "def train_discriminator(real_images, opt_d):\n",
    "    # Clear discriminator gradients\n",
    "    opt_d.zero_grad()\n",
    "\n",
    "    # Pass real images through discriminator\n",
    "    real_preds = discriminator.train()(real_images)\n",
    "    real_targets = pt.ones(real_images.size(0), 1, device=device)\n",
    "    real_loss = F.binary_cross_entropy(real_preds, real_targets)\n",
    "    # real_score = pt.mean(real_preds).item()\n",
    "\n",
    "    # Generate fake images\n",
    "    latent = pt.randn(batch_size, latent_dim, 1, 1, device=device)\n",
    "    fake_images = generator.train()(latent)\n",
    "\n",
    "    # Pass fake images through discriminator\n",
    "    fake_targets = pt.zeros(fake_images.size(0), 1, device=device)\n",
    "    fake_preds = discriminator.train()(fake_images)\n",
    "    fake_loss = F.binary_cross_entropy(fake_preds, fake_targets)\n",
    "    # fake_score = pt.mean(fake_preds).item()\n",
    "\n",
    "    # Update discriminator weights\n",
    "    loss = real_loss + fake_loss # (... + ...) / 2\n",
    "    loss.backward()\n",
    "    opt_d.step()\n",
    "    return loss.item(), real_loss.detach().cpu().item(), fake_loss.detach().cpu().item() # real_score, fake_score"
   ]
  },
  {
   "cell_type": "code",
   "execution_count": null,
   "metadata": {},
   "outputs": [],
   "source": [
    "import os\n",
    "\n",
    "sample_dir = 'generated-images'\n",
    "os.makedirs(sample_dir, exist_ok=True)"
   ]
  },
  {
   "cell_type": "code",
   "execution_count": null,
   "metadata": {},
   "outputs": [],
   "source": [
    "def save_samples(index, latent_tensors, show=True):\n",
    "    fake_images = generator.eval()(latent_tensors)\n",
    "    fake_fname = 'generated-images-{0:0=4d}.png'.format(index)\n",
    "    save_image(\n",
    "        # denorm(fake_images.detach().cpu()),\n",
    "        fake_images.detach().cpu(),\n",
    "        os.path.join(sample_dir, fake_fname),\n",
    "        nrow=8\n",
    "    )\n",
    "    print('Saving', fake_fname)\n",
    "    if show:\n",
    "        _, ax = plt.subplots(figsize=(8, 8))\n",
    "        ax.set_xticks([]); ax.set_yticks([])\n",
    "        ax.imshow(make_grid(fake_images.detach().cpu(), nrow=8).permute(1, 2, 0))\n",
    "        plt.show()"
   ]
  },
  {
   "cell_type": "code",
   "execution_count": null,
   "metadata": {},
   "outputs": [],
   "source": [
    "opt_g = pt.optim.Adam(generator.parameters(), lr=gen_lr, betas=(0.5, 0.999))\n",
    "opt_d = pt.optim.Adam(discriminator.parameters(), lr=disc_lr, betas=(0.5, 0.999))\n",
    "\n",
    "fixed_latent = pt.randn(64, latent_dim, 1, 1, device=device)"
   ]
  },
  {
   "cell_type": "code",
   "execution_count": null,
   "metadata": {},
   "outputs": [],
   "source": [
    "import numpy as np\n",
    "from tqdm import tqdm"
   ]
  },
  {
   "cell_type": "code",
   "execution_count": null,
   "metadata": {},
   "outputs": [],
   "source": [
    "losses_g, losses_d = [], []\n",
    "real_scores, fake_scores = [], []\n",
    "\n",
    "for epoch in range(epochs):\n",
    "    batch_loss_g, batch_loss_d = [], []\n",
    "    batch_real_score, batch_fake_score = [], []\n",
    "\n",
    "    for loader in train_loader, test_loader:\n",
    "        # Train discriminator\n",
    "        for real_images, _ in tqdm(loader):\n",
    "            loss_d, real_score, fake_score = train_discriminator(real_images.to(device), opt_d)\n",
    "            batch_loss_d.append(loss_d)\n",
    "            batch_real_score.append(real_score)\n",
    "            batch_fake_score.append(fake_score)\n",
    "            # Train generator\n",
    "            loss_g = train_generator(opt_g)\n",
    "            batch_loss_g.append(loss_g)\n",
    "\n",
    "    # Record losses & scores\n",
    "    losses_g.append(np.mean(batch_loss_g))\n",
    "    losses_d.append(np.mean(batch_loss_d))\n",
    "    real_scores.append(np.mean(batch_real_score))\n",
    "    fake_scores.append(np.mean(batch_fake_score))\n",
    "\n",
    "    batch_loss_g, batch_loss_d = [], []\n",
    "    batch_real_score, batch_fake_score = [], []\n",
    "\n",
    "    # Save generated images\n",
    "    save_samples(epoch+1, fixed_latent, show=False)\n",
    "\n",
    "    # Log losses & scores (last batch)\n",
    "    print(f\"Epoch [{epoch+1}/{epochs}], loss_g: {loss_g:.4f}, loss_d: {loss_d:.4f},\"\n",
    "          + f\" real_score: {real_score:.4f}, fake_score: {fake_score:.4f}\\n\")"
   ]
  },
  {
   "cell_type": "code",
   "execution_count": null,
   "metadata": {},
   "outputs": [],
   "source": [
    "plt.figure(figsize=(10, 8), dpi=100)\n",
    "\n",
    "plt.subplot(2, 2, 1)\n",
    "plt.plot(losses_g, '-')\n",
    "plt.xlabel('Epoch')\n",
    "plt.ylabel('Loss')\n",
    "plt.title('Generator Loss')\n",
    "\n",
    "plt.subplot(2, 2, 2)\n",
    "plt.plot(losses_d, '-')\n",
    "plt.xlabel('Epoch')\n",
    "plt.ylabel('Loss')\n",
    "plt.title('Discriminator Loss')\n",
    "\n",
    "plt.subplot(2, 2, 3)\n",
    "plt.plot(real_scores, '-')\n",
    "plt.xlabel('Epoch')\n",
    "plt.ylabel('Score')\n",
    "plt.title('Real Images Discriminator Scores')\n",
    "\n",
    "plt.subplot(2, 2, 4)\n",
    "plt.plot(fake_scores, '-')\n",
    "plt.xlabel('Epoch')\n",
    "plt.ylabel('Score')\n",
    "plt.title('Fake Images Discriminator Scores')"
   ]
  },
  {
   "cell_type": "code",
   "execution_count": null,
   "metadata": {},
   "outputs": [],
   "source": [
    "pt.save(generator.state_dict(), \"models/generator-model\")\n",
    "pt.save(discriminator.state_dict(), \"models/discriminator-model\")"
   ]
  }
 ],
 "metadata": {
  "kernelspec": {
   "display_name": "env-pytorch",
   "language": "python",
   "name": "python3"
  },
  "language_info": {
   "codemirror_mode": {
    "name": "ipython",
    "version": 3
   },
   "file_extension": ".py",
   "mimetype": "text/x-python",
   "name": "python",
   "nbconvert_exporter": "python",
   "pygments_lexer": "ipython3",
   "version": "3.8.17"
  },
  "orig_nbformat": 4
 },
 "nbformat": 4,
 "nbformat_minor": 2
}
