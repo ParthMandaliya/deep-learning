{
 "cells": [
  {
   "attachments": {},
   "cell_type": "markdown",
   "id": "fiscal-publicity",
   "metadata": {
    "papermill": {
     "duration": 0.066405,
     "end_time": "2021-06-23T15:56:59.994924",
     "exception": false,
     "start_time": "2021-06-23T15:56:59.928519",
     "status": "completed"
    },
    "tags": []
   },
   "source": [
    "# Generative Adversarial Networks(GAN) - PyTorch Tutorial"
   ]
  },
  {
   "attachments": {},
   "cell_type": "markdown",
   "id": "running-skating",
   "metadata": {
    "execution": {
     "iopub.execute_input": "2021-06-23T15:52:00.243235Z",
     "iopub.status.busy": "2021-06-23T15:52:00.242873Z",
     "iopub.status.idle": "2021-06-23T15:52:00.880086Z",
     "shell.execute_reply": "2021-06-23T15:52:00.879121Z",
     "shell.execute_reply.started": "2021-06-23T15:52:00.243159Z"
    },
    "papermill": {
     "duration": 0.047088,
     "end_time": "2021-06-23T15:57:00.102789",
     "exception": false,
     "start_time": "2021-06-23T15:57:00.055701",
     "status": "completed"
    },
    "tags": []
   },
   "source": [
    "![image](https://img1.daumcdn.net/thumb/R1280x0/?scode=mtistory2&fname=https%3A%2F%2Fblog.kakaocdn.net%2Fdn%2FHwq72%2FbtqAY6E0wYb%2FBFRgtJWTY3Ij9BKks7vsM1%2Fimg.png)"
   ]
  },
  {
   "attachments": {},
   "cell_type": "markdown",
   "id": "saving-chain",
   "metadata": {
    "papermill": {
     "duration": 0.058304,
     "end_time": "2021-06-23T15:57:00.232764",
     "exception": false,
     "start_time": "2021-06-23T15:57:00.174460",
     "status": "completed"
    },
    "tags": []
   },
   "source": [
    "This kernel is for those new to gan.\n",
    "\n",
    "And It was coded with pytorch, and all the code was converted into the familiar Jupyter notebook form for data analysts and machine learning engineers by referring to the gan official Python code.\n",
    "\n",
    "I hope that many Kaglers will be interested in Generative Adversarial Networks(GAN), and that it will be shared and helpful to more people. So let's get started!"
   ]
  },
  {
   "attachments": {},
   "cell_type": "markdown",
   "id": "italian-ordinance",
   "metadata": {
    "execution": {
     "iopub.execute_input": "2021-06-12T13:11:22.760936Z",
     "iopub.status.busy": "2021-06-12T13:11:22.760514Z",
     "iopub.status.idle": "2021-06-12T13:11:22.773432Z",
     "shell.execute_reply": "2021-06-12T13:11:22.771815Z",
     "shell.execute_reply.started": "2021-06-12T13:11:22.760902Z"
    },
    "papermill": {
     "duration": 0.046821,
     "end_time": "2021-06-23T15:57:00.326810",
     "exception": false,
     "start_time": "2021-06-23T15:57:00.279989",
     "status": "completed"
    },
    "tags": []
   },
   "source": [
    "## MAIN Reference\n",
    "1. [PyTorch-GAN | Github/eriklindernoren | Collection of PyTorch implementations of GAN](https://github.com/sw-song/PyTorch-GAN)\n"
   ]
  },
  {
   "attachments": {},
   "cell_type": "markdown",
   "id": "working-escape",
   "metadata": {
    "papermill": {
     "duration": 0.045072,
     "end_time": "2021-06-23T15:57:00.417804",
     "exception": false,
     "start_time": "2021-06-23T15:57:00.372732",
     "status": "completed"
    },
    "tags": []
   },
   "source": [
    "## Index\n",
    "```\n",
    "Step 1. Import Libraries\n",
    "Step 2. Initial Setting\n",
    "Step 3. Define Generator\n",
    "Step 4. Define Discriminator\n",
    "Step 5. Define Loss Function\n",
    "Step 6. Initialize Generator and Discriminator\n",
    "Step 7. GPU Setting\n",
    "Step 8. Configure Data Loader\n",
    "Step 9. Define Optimizers\n",
    "Step 10. Training\n",
    "```\n",
    "---"
   ]
  },
  {
   "attachments": {},
   "cell_type": "markdown",
   "id": "limited-eligibility",
   "metadata": {
    "papermill": {
     "duration": 0.045384,
     "end_time": "2021-06-23T15:57:00.508717",
     "exception": false,
     "start_time": "2021-06-23T15:57:00.463333",
     "status": "completed"
    },
    "tags": []
   },
   "source": [
    "### Step 1. Import Libraries"
   ]
  },
  {
   "cell_type": "code",
   "execution_count": null,
   "id": "touched-phase",
   "metadata": {
    "execution": {
     "iopub.execute_input": "2021-06-23T15:57:00.611183Z",
     "iopub.status.busy": "2021-06-23T15:57:00.610471Z",
     "iopub.status.idle": "2021-06-23T15:57:02.113220Z",
     "shell.execute_reply": "2021-06-23T15:57:02.114347Z",
     "shell.execute_reply.started": "2021-06-14T10:50:34.767977Z"
    },
    "papermill": {
     "duration": 1.560143,
     "end_time": "2021-06-23T15:57:02.114682",
     "exception": false,
     "start_time": "2021-06-23T15:57:00.554539",
     "status": "completed"
    },
    "tags": []
   },
   "outputs": [],
   "source": [
    "import numpy as np\n",
    "\n",
    "import torchvision.transforms as transforms\n",
    "\n",
    "from torch.utils.data import DataLoader\n",
    "from torchvision import datasets\n",
    "from torch.autograd import Variable \n",
    "\n",
    "import torch.nn as nn\n",
    "import torch.nn.functional as F\n",
    "import torch"
   ]
  },
  {
   "attachments": {},
   "cell_type": "markdown",
   "id": "dramatic-bullet",
   "metadata": {
    "papermill": {
     "duration": 0.058773,
     "end_time": "2021-06-23T15:57:02.254010",
     "exception": false,
     "start_time": "2021-06-23T15:57:02.195237",
     "status": "completed"
    },
    "tags": []
   },
   "source": [
    "### Step 2. Initial setting"
   ]
  },
  {
   "cell_type": "code",
   "execution_count": null,
   "id": "czech-bahrain",
   "metadata": {
    "execution": {
     "iopub.execute_input": "2021-06-23T15:57:02.350107Z",
     "iopub.status.busy": "2021-06-23T15:57:02.349187Z",
     "iopub.status.idle": "2021-06-23T15:57:02.351947Z",
     "shell.execute_reply": "2021-06-23T15:57:02.351430Z",
     "shell.execute_reply.started": "2021-06-14T10:50:34.774368Z"
    },
    "papermill": {
     "duration": 0.052084,
     "end_time": "2021-06-23T15:57:02.352056",
     "exception": false,
     "start_time": "2021-06-23T15:57:02.299972",
     "status": "completed"
    },
    "tags": []
   },
   "outputs": [],
   "source": [
    "channels = 1 # suggested default : 1, number of image channels (gray scale)\n",
    "img_size = 28 # suggested default : 28, size of each image dimension\n",
    "img_shape = (channels, img_size, img_size) # (Channels, Image Size(H), Image Size(W))"
   ]
  },
  {
   "cell_type": "code",
   "execution_count": null,
   "id": "democratic-magic",
   "metadata": {
    "execution": {
     "iopub.execute_input": "2021-06-23T15:57:02.446628Z",
     "iopub.status.busy": "2021-06-23T15:57:02.446128Z",
     "iopub.status.idle": "2021-06-23T15:57:02.449933Z",
     "shell.execute_reply": "2021-06-23T15:57:02.449517Z",
     "shell.execute_reply.started": "2021-06-14T10:50:34.790593Z"
    },
    "papermill": {
     "duration": 0.052767,
     "end_time": "2021-06-23T15:57:02.450049",
     "exception": false,
     "start_time": "2021-06-23T15:57:02.397282",
     "status": "completed"
    },
    "tags": []
   },
   "outputs": [],
   "source": [
    "latent_dim = 100 # suggested default. dimensionality of the latent space"
   ]
  },
  {
   "cell_type": "code",
   "execution_count": null,
   "id": "olive-driving",
   "metadata": {
    "execution": {
     "iopub.execute_input": "2021-06-23T15:57:02.588494Z",
     "iopub.status.busy": "2021-06-23T15:57:02.587765Z",
     "iopub.status.idle": "2021-06-23T15:57:02.591612Z",
     "shell.execute_reply": "2021-06-23T15:57:02.590802Z",
     "shell.execute_reply.started": "2021-06-14T10:50:34.798688Z"
    },
    "papermill": {
     "duration": 0.09587,
     "end_time": "2021-06-23T15:57:02.591735",
     "exception": false,
     "start_time": "2021-06-23T15:57:02.495865",
     "status": "completed"
    },
    "tags": []
   },
   "outputs": [],
   "source": [
    "cuda = True if torch.cuda.is_available() else False # GPU Setting"
   ]
  },
  {
   "attachments": {},
   "cell_type": "markdown",
   "id": "compressed-employer",
   "metadata": {
    "papermill": {
     "duration": 0.044867,
     "end_time": "2021-06-23T15:57:02.682618",
     "exception": false,
     "start_time": "2021-06-23T15:57:02.637751",
     "status": "completed"
    },
    "tags": []
   },
   "source": [
    "### Step 3. Define Generator"
   ]
  },
  {
   "cell_type": "code",
   "execution_count": null,
   "id": "random-colorado",
   "metadata": {
    "execution": {
     "iopub.execute_input": "2021-06-23T15:57:02.782455Z",
     "iopub.status.busy": "2021-06-23T15:57:02.781610Z",
     "iopub.status.idle": "2021-06-23T15:57:02.784207Z",
     "shell.execute_reply": "2021-06-23T15:57:02.783774Z",
     "shell.execute_reply.started": "2021-06-14T10:50:34.806487Z"
    },
    "papermill": {
     "duration": 0.056433,
     "end_time": "2021-06-23T15:57:02.784323",
     "exception": false,
     "start_time": "2021-06-23T15:57:02.727890",
     "status": "completed"
    },
    "tags": []
   },
   "outputs": [],
   "source": [
    "class Generator(nn.Module):\n",
    "    def __init__(self):\n",
    "        super(Generator, self).__init__()\n",
    "        \n",
    "        def block(input_features, output_features, normalize=True):\n",
    "            layers = [nn.Linear(input_features, output_features)]\n",
    "            if normalize: # Default\n",
    "                layers.append(nn.BatchNorm1d(output_features, 0.8))\n",
    "            layers.append(nn.LeakyReLU(0.2, inplace=True)) # inplace=True : modify the input directly. It can slightly decrease the memory usage.\n",
    "            return layers # return list of layers\n",
    "        \n",
    "        self.model = nn.Sequential(\n",
    "            *block(latent_dim, 128, normalize=False), # Asterisk('*') in front of block means unpacking list of layers - leave only values(layers) in list\n",
    "            *block(128, 256),\n",
    "            *block(256, 512),\n",
    "            *block(512, 1024),\n",
    "            nn.Linear(1024, int(np.prod(img_shape))), # np.prod(1, 28, 28) == 1*28*28\n",
    "            nn.Tanh() # result : from -1 to 1\n",
    "        )\n",
    "\n",
    "    def forward(self, z): # z == latent vector(random input vector)\n",
    "        img = self.model(z) # (64, 100) --(model)--> (64, 784)\n",
    "        img = img.view(img.size(0), *img_shape) # img.size(0) == N(Batch Size), (N, C, H, W) == default --> (64, 1, 28, 28)\n",
    "        return img"
   ]
  },
  {
   "attachments": {},
   "cell_type": "markdown",
   "id": "subject-furniture",
   "metadata": {
    "papermill": {
     "duration": 0.046588,
     "end_time": "2021-06-23T15:57:02.876852",
     "exception": false,
     "start_time": "2021-06-23T15:57:02.830264",
     "status": "completed"
    },
    "tags": []
   },
   "source": [
    "> Read More\n",
    "- [What is the difference between nn.ReLU() and nn.ReLU(inplace=True)?](https://discuss.pytorch.org/t/whats-the-difference-between-nn-relu-and-nn-relu-inplace-true/948)\n",
    "- [Tanh](https://wiki.documentfoundation.org/Documentation/Calc_Functions/TANH)\n",
    "- [Unpacking Operators in Python](https://towardsdatascience.com/unpacking-operators-in-python-306ae44cd480)"
   ]
  },
  {
   "attachments": {},
   "cell_type": "markdown",
   "id": "familiar-situation",
   "metadata": {
    "papermill": {
     "duration": 0.045691,
     "end_time": "2021-06-23T15:57:02.968902",
     "exception": false,
     "start_time": "2021-06-23T15:57:02.923211",
     "status": "completed"
    },
    "tags": []
   },
   "source": [
    "### Step 4. Define Discriminator"
   ]
  },
  {
   "cell_type": "code",
   "execution_count": null,
   "id": "objective-syndicate",
   "metadata": {
    "execution": {
     "iopub.execute_input": "2021-06-23T15:57:03.066394Z",
     "iopub.status.busy": "2021-06-23T15:57:03.065562Z",
     "iopub.status.idle": "2021-06-23T15:57:03.067715Z",
     "shell.execute_reply": "2021-06-23T15:57:03.068159Z",
     "shell.execute_reply.started": "2021-06-14T10:50:34.817193Z"
    },
    "papermill": {
     "duration": 0.054014,
     "end_time": "2021-06-23T15:57:03.068291",
     "exception": false,
     "start_time": "2021-06-23T15:57:03.014277",
     "status": "completed"
    },
    "tags": []
   },
   "outputs": [],
   "source": [
    "class Discriminator(nn.Module):\n",
    "    def __init__(self):\n",
    "        super(Discriminator, self).__init__()\n",
    "        \n",
    "        self.model = nn.Sequential(\n",
    "            nn.Linear(int(np.prod(img_shape)), 512), # (28*28, 512)\n",
    "            nn.LeakyReLU(0.2, inplace=True),\n",
    "            nn.Linear(512, 256),\n",
    "            nn.LeakyReLU(0.2, inplace=True),\n",
    "            nn.Linear(256, 1),\n",
    "            nn.Sigmoid() # result : from 0 to 1\n",
    "        )\n",
    "    \n",
    "    def forward(self, img):\n",
    "        img_flat = img.view(img.size(0), -1) #flatten -> from (64, 1, 28, 28) to (64, 1*28*28)\n",
    "        validity = self.model(img_flat) # Discriminate -> Real? or Fake? (64, 784) -> (64, 1)\n",
    "        return validity"
   ]
  },
  {
   "attachments": {},
   "cell_type": "markdown",
   "id": "coral-parliament",
   "metadata": {
    "execution": {
     "iopub.execute_input": "2021-06-12T15:28:58.41829Z",
     "iopub.status.busy": "2021-06-12T15:28:58.41792Z",
     "iopub.status.idle": "2021-06-12T15:28:58.423679Z",
     "shell.execute_reply": "2021-06-12T15:28:58.422442Z",
     "shell.execute_reply.started": "2021-06-12T15:28:58.418256Z"
    },
    "papermill": {
     "duration": 0.045437,
     "end_time": "2021-06-23T15:57:03.159718",
     "exception": false,
     "start_time": "2021-06-23T15:57:03.114281",
     "status": "completed"
    },
    "tags": []
   },
   "source": [
    "> Read More\n",
    "- [Sigmoid](https://en.wikipedia.org/wiki/Sigmoid_function)\n",
    "- [pytorch in x = x.view (x.size (0), -1) understanding](https://www.programmersought.com/article/11412923760/)"
   ]
  },
  {
   "attachments": {},
   "cell_type": "markdown",
   "id": "complicated-macintosh",
   "metadata": {
    "papermill": {
     "duration": 0.045784,
     "end_time": "2021-06-23T15:57:03.251043",
     "exception": false,
     "start_time": "2021-06-23T15:57:03.205259",
     "status": "completed"
    },
    "tags": []
   },
   "source": [
    "### Step 5. Define Loss Function"
   ]
  },
  {
   "cell_type": "code",
   "execution_count": null,
   "id": "written-somalia",
   "metadata": {
    "execution": {
     "iopub.execute_input": "2021-06-23T15:57:03.347106Z",
     "iopub.status.busy": "2021-06-23T15:57:03.345816Z",
     "iopub.status.idle": "2021-06-23T15:57:03.348025Z",
     "shell.execute_reply": "2021-06-23T15:57:03.348497Z",
     "shell.execute_reply.started": "2021-06-14T10:50:34.829386Z"
    },
    "papermill": {
     "duration": 0.052019,
     "end_time": "2021-06-23T15:57:03.348632",
     "exception": false,
     "start_time": "2021-06-23T15:57:03.296613",
     "status": "completed"
    },
    "tags": []
   },
   "outputs": [],
   "source": [
    "adversarial_loss = torch.nn.BCELoss()"
   ]
  },
  {
   "attachments": {},
   "cell_type": "markdown",
   "id": "selective-lloyd",
   "metadata": {
    "papermill": {
     "duration": 0.044943,
     "end_time": "2021-06-23T15:57:03.438981",
     "exception": false,
     "start_time": "2021-06-23T15:57:03.394038",
     "status": "completed"
    },
    "tags": []
   },
   "source": [
    "> Read More\n",
    "- [BCELoss(Binary Cross Entropy Loss)](https://pytorch.org/docs/stable/generated/torch.nn.BCELoss.html)"
   ]
  },
  {
   "attachments": {},
   "cell_type": "markdown",
   "id": "supreme-massage",
   "metadata": {
    "papermill": {
     "duration": 0.045278,
     "end_time": "2021-06-23T15:57:03.529404",
     "exception": false,
     "start_time": "2021-06-23T15:57:03.484126",
     "status": "completed"
    },
    "tags": []
   },
   "source": [
    "### Step 6. Initialize generator and Discriminator"
   ]
  },
  {
   "cell_type": "code",
   "execution_count": null,
   "id": "disciplinary-guitar",
   "metadata": {
    "execution": {
     "iopub.execute_input": "2021-06-23T15:57:03.625788Z",
     "iopub.status.busy": "2021-06-23T15:57:03.625261Z",
     "iopub.status.idle": "2021-06-23T15:57:03.672743Z",
     "shell.execute_reply": "2021-06-23T15:57:03.672285Z",
     "shell.execute_reply.started": "2021-06-14T10:50:34.837328Z"
    },
    "papermill": {
     "duration": 0.097554,
     "end_time": "2021-06-23T15:57:03.672851",
     "exception": false,
     "start_time": "2021-06-23T15:57:03.575297",
     "status": "completed"
    },
    "tags": []
   },
   "outputs": [],
   "source": [
    "generator = Generator()\n",
    "discriminator = Discriminator()"
   ]
  },
  {
   "cell_type": "code",
   "execution_count": null,
   "id": "matched-glory",
   "metadata": {
    "execution": {
     "iopub.execute_input": "2021-06-23T15:57:03.771613Z",
     "iopub.status.busy": "2021-06-23T15:57:03.771096Z",
     "iopub.status.idle": "2021-06-23T15:57:03.776993Z",
     "shell.execute_reply": "2021-06-23T15:57:03.776590Z",
     "shell.execute_reply.started": "2021-06-14T10:50:34.886549Z"
    },
    "papermill": {
     "duration": 0.058138,
     "end_time": "2021-06-23T15:57:03.777110",
     "exception": false,
     "start_time": "2021-06-23T15:57:03.718972",
     "status": "completed"
    },
    "tags": []
   },
   "outputs": [],
   "source": [
    "generator"
   ]
  },
  {
   "cell_type": "code",
   "execution_count": null,
   "id": "fewer-wilson",
   "metadata": {
    "execution": {
     "iopub.execute_input": "2021-06-23T15:57:03.873395Z",
     "iopub.status.busy": "2021-06-23T15:57:03.872652Z",
     "iopub.status.idle": "2021-06-23T15:57:03.876145Z",
     "shell.execute_reply": "2021-06-23T15:57:03.875736Z",
     "shell.execute_reply.started": "2021-06-14T10:50:34.893087Z"
    },
    "papermill": {
     "duration": 0.053415,
     "end_time": "2021-06-23T15:57:03.876259",
     "exception": false,
     "start_time": "2021-06-23T15:57:03.822844",
     "status": "completed"
    },
    "tags": []
   },
   "outputs": [],
   "source": [
    "discriminator"
   ]
  },
  {
   "attachments": {},
   "cell_type": "markdown",
   "id": "suitable-panama",
   "metadata": {
    "papermill": {
     "duration": 0.045553,
     "end_time": "2021-06-23T15:57:03.968175",
     "exception": false,
     "start_time": "2021-06-23T15:57:03.922622",
     "status": "completed"
    },
    "tags": []
   },
   "source": [
    "### Step 7. GPU Setting"
   ]
  },
  {
   "cell_type": "code",
   "execution_count": null,
   "id": "radical-paraguay",
   "metadata": {
    "execution": {
     "iopub.execute_input": "2021-06-23T15:57:04.068403Z",
     "iopub.status.busy": "2021-06-23T15:57:04.067666Z",
     "iopub.status.idle": "2021-06-23T15:57:08.470553Z",
     "shell.execute_reply": "2021-06-23T15:57:08.470110Z",
     "shell.execute_reply.started": "2021-06-14T10:50:34.905437Z"
    },
    "papermill": {
     "duration": 4.456583,
     "end_time": "2021-06-23T15:57:08.470678",
     "exception": false,
     "start_time": "2021-06-23T15:57:04.014095",
     "status": "completed"
    },
    "tags": []
   },
   "outputs": [],
   "source": [
    "if cuda:\n",
    "    generator.cuda()\n",
    "    discriminator.cuda()\n",
    "    adversarial_loss.cuda()"
   ]
  },
  {
   "attachments": {},
   "cell_type": "markdown",
   "id": "distributed-subcommittee",
   "metadata": {
    "papermill": {
     "duration": 0.046577,
     "end_time": "2021-06-23T15:57:08.564572",
     "exception": false,
     "start_time": "2021-06-23T15:57:08.517995",
     "status": "completed"
    },
    "tags": []
   },
   "source": [
    "### Step 8. Configure Data Loader"
   ]
  },
  {
   "attachments": {},
   "cell_type": "markdown",
   "id": "dried-quarter",
   "metadata": {
    "papermill": {
     "duration": 0.045862,
     "end_time": "2021-06-23T15:57:08.656938",
     "exception": false,
     "start_time": "2021-06-23T15:57:08.611076",
     "status": "completed"
    },
    "tags": []
   },
   "source": [
    "Since we use the Kaggle dataset, it is necessary to read the csv file and convert it into an image format.\n",
    "\n",
    "\n",
    "For the code to load and convert Kaggle MNIST data, I referred to [Pytorch Dataset and DataLoader](https://www.kaggle.com/pinocookie/pytorch-dataset-and-dataloader).\n"
   ]
  },
  {
   "cell_type": "code",
   "execution_count": null,
   "id": "personalized-positive",
   "metadata": {
    "execution": {
     "iopub.execute_input": "2021-06-23T15:57:08.754356Z",
     "iopub.status.busy": "2021-06-23T15:57:08.752966Z",
     "iopub.status.idle": "2021-06-23T15:57:08.755497Z",
     "shell.execute_reply": "2021-06-23T15:57:08.755921Z",
     "shell.execute_reply.started": "2021-06-14T10:50:34.916768Z"
    },
    "papermill": {
     "duration": 0.052988,
     "end_time": "2021-06-23T15:57:08.756055",
     "exception": false,
     "start_time": "2021-06-23T15:57:08.703067",
     "status": "completed"
    },
    "tags": []
   },
   "outputs": [],
   "source": [
    "# import pandas as pd\n",
    "# from torch.utils.data import Dataset"
   ]
  },
  {
   "cell_type": "code",
   "execution_count": null,
   "id": "placed-stroke",
   "metadata": {
    "execution": {
     "iopub.execute_input": "2021-06-23T15:57:08.856128Z",
     "iopub.status.busy": "2021-06-23T15:57:08.855252Z",
     "iopub.status.idle": "2021-06-23T15:57:08.857804Z",
     "shell.execute_reply": "2021-06-23T15:57:08.857416Z",
     "shell.execute_reply.started": "2021-06-14T10:50:34.922514Z"
    },
    "papermill": {
     "duration": 0.055687,
     "end_time": "2021-06-23T15:57:08.857927",
     "exception": false,
     "start_time": "2021-06-23T15:57:08.802240",
     "status": "completed"
    },
    "tags": []
   },
   "outputs": [],
   "source": [
    "# class DatasetMNIST(Dataset): # inherit abstract class - 'Dataset'\n",
    "    \n",
    "#     def __init__(self, file_path, transform=None):\n",
    "#         self.data = pd.read_csv(file_path)\n",
    "#         self.transform = transform\n",
    "        \n",
    "#     def __len__(self):\n",
    "#         return len(self.data)\n",
    "    \n",
    "#     def __getitem__(self, index):\n",
    "#         # load image ad ndarray type (H, W, C)\n",
    "#         # be carefull for converting dtype to np.uint8 (Unsigned integer (0 to 255))\n",
    "#         # in this example, We use ToTensor(), so we define the numpy array like (H, W, C)\n",
    "        \n",
    "#         image = self.data.iloc[index, 1:].values.astype(np.uint8).reshape((28,28,1))\n",
    "#         label = self.data.iloc[index, 0]\n",
    "#         if self.transform is not None:\n",
    "#             image = self.transform(image)\n",
    "        \n",
    "#         return image, label\n",
    "        "
   ]
  },
  {
   "attachments": {},
   "cell_type": "markdown",
   "id": "narrative-architecture",
   "metadata": {
    "execution": {
     "iopub.execute_input": "2021-06-12T16:15:39.239996Z",
     "iopub.status.busy": "2021-06-12T16:15:39.2396Z",
     "iopub.status.idle": "2021-06-12T16:15:39.246142Z",
     "shell.execute_reply": "2021-06-12T16:15:39.244583Z",
     "shell.execute_reply.started": "2021-06-12T16:15:39.239968Z"
    },
    "papermill": {
     "duration": 0.045823,
     "end_time": "2021-06-23T15:57:08.950198",
     "exception": false,
     "start_time": "2021-06-23T15:57:08.904375",
     "status": "completed"
    },
    "tags": []
   },
   "source": [
    "> TEST CODE : Read CSV file"
   ]
  },
  {
   "cell_type": "code",
   "execution_count": null,
   "id": "massive-temperature",
   "metadata": {
    "execution": {
     "iopub.execute_input": "2021-06-23T15:57:09.051423Z",
     "iopub.status.busy": "2021-06-23T15:57:09.050848Z",
     "iopub.status.idle": "2021-06-23T15:57:11.996080Z",
     "shell.execute_reply": "2021-06-23T15:57:11.995199Z",
     "shell.execute_reply.started": "2021-06-14T10:50:34.932828Z"
    },
    "papermill": {
     "duration": 2.999481,
     "end_time": "2021-06-23T15:57:11.996219",
     "exception": false,
     "start_time": "2021-06-23T15:57:08.996738",
     "status": "completed"
    },
    "tags": []
   },
   "outputs": [],
   "source": [
    "# train = pd.read_csv('../input/digit-recognizer/train.csv')"
   ]
  },
  {
   "cell_type": "code",
   "execution_count": null,
   "id": "christian-population",
   "metadata": {
    "execution": {
     "iopub.execute_input": "2021-06-23T15:57:12.097861Z",
     "iopub.status.busy": "2021-06-23T15:57:12.097079Z",
     "iopub.status.idle": "2021-06-23T15:57:12.121115Z",
     "shell.execute_reply": "2021-06-23T15:57:12.121511Z",
     "shell.execute_reply.started": "2021-06-14T10:50:36.997167Z"
    },
    "papermill": {
     "duration": 0.07898,
     "end_time": "2021-06-23T15:57:12.121642",
     "exception": false,
     "start_time": "2021-06-23T15:57:12.042662",
     "status": "completed"
    },
    "tags": []
   },
   "outputs": [],
   "source": [
    "# train"
   ]
  },
  {
   "attachments": {},
   "cell_type": "markdown",
   "id": "regional-circle",
   "metadata": {
    "papermill": {
     "duration": 0.04638,
     "end_time": "2021-06-23T15:57:12.215526",
     "exception": false,
     "start_time": "2021-06-23T15:57:12.169146",
     "status": "completed"
    },
    "tags": []
   },
   "source": [
    "> TEST CODE : Construct image from csv file"
   ]
  },
  {
   "cell_type": "code",
   "execution_count": null,
   "id": "civil-dependence",
   "metadata": {
    "execution": {
     "iopub.execute_input": "2021-06-23T15:57:12.317113Z",
     "iopub.status.busy": "2021-06-23T15:57:12.316269Z",
     "iopub.status.idle": "2021-06-23T15:57:12.321454Z",
     "shell.execute_reply": "2021-06-23T15:57:12.322067Z",
     "shell.execute_reply.started": "2021-06-14T10:50:37.022833Z"
    },
    "papermill": {
     "duration": 0.06019,
     "end_time": "2021-06-23T15:57:12.322293",
     "exception": false,
     "start_time": "2021-06-23T15:57:12.262103",
     "status": "completed"
    },
    "tags": []
   },
   "outputs": [],
   "source": [
    "# for index in range(1, 6): # N : 5 (Number of Image)\n",
    "#     temp_image = train.iloc[index, 1:].values.astype(np.uint8).reshape((28,28,1))\n",
    "#     temp_label = train.iloc[index, 0]\n",
    "#     print('Shape of Image : ',temp_image.shape)\n",
    "#     print('label : ', temp_label)"
   ]
  },
  {
   "attachments": {},
   "cell_type": "markdown",
   "id": "signal-clinic",
   "metadata": {
    "papermill": {
     "duration": 0.047268,
     "end_time": "2021-06-23T15:57:12.417044",
     "exception": false,
     "start_time": "2021-06-23T15:57:12.369776",
     "status": "completed"
    },
    "tags": []
   },
   "source": [
    "> TEST CODE : transform from table data to image data with basic preprocessing"
   ]
  },
  {
   "cell_type": "code",
   "execution_count": null,
   "id": "hundred-arizona",
   "metadata": {
    "execution": {
     "iopub.execute_input": "2021-06-23T15:57:12.517266Z",
     "iopub.status.busy": "2021-06-23T15:57:12.516470Z",
     "iopub.status.idle": "2021-06-23T15:57:14.738901Z",
     "shell.execute_reply": "2021-06-23T15:57:14.738465Z",
     "shell.execute_reply.started": "2021-06-14T10:50:37.035911Z"
    },
    "papermill": {
     "duration": 2.275176,
     "end_time": "2021-06-23T15:57:14.739073",
     "exception": false,
     "start_time": "2021-06-23T15:57:12.463897",
     "status": "completed"
    },
    "tags": []
   },
   "outputs": [],
   "source": [
    "# dataset = DatasetMNIST(file_path='../input/digit-recognizer/train.csv', \n",
    "#                        transform=transforms.Compose(\n",
    "#                            [#transforms.Resize(img_size), # Resize is only for PIL Image. Not for numpy array\n",
    "#                             transforms.ToTensor(), # ToTensor() : np.array (H, W, C) -> tensor (C, H, W)\n",
    "#                             transforms.Normalize([0.5],[0.5])]\n",
    "#                        ))"
   ]
  },
  {
   "cell_type": "code",
   "execution_count": null,
   "id": "54443f7a",
   "metadata": {},
   "outputs": [],
   "source": [
    "transforms_ = transforms.Compose([\n",
    "    transforms.ToTensor(),\n",
    "    transforms.Normalize(mean=(0.5), std=(0.5)),\n",
    "])\n",
    "dataset = datasets.MNIST(\"./files\", train=True, download=True, transform=transforms_)\n",
    "\n",
    "CLASSES = dataset.classes"
   ]
  },
  {
   "cell_type": "code",
   "execution_count": null,
   "id": "surprising-range",
   "metadata": {
    "execution": {
     "iopub.execute_input": "2021-06-23T15:57:14.838802Z",
     "iopub.status.busy": "2021-06-23T15:57:14.838270Z",
     "iopub.status.idle": "2021-06-23T15:57:14.865368Z",
     "shell.execute_reply": "2021-06-23T15:57:14.864934Z",
     "shell.execute_reply.started": "2021-06-14T10:50:39.080327Z"
    },
    "papermill": {
     "duration": 0.078323,
     "end_time": "2021-06-23T15:57:14.865490",
     "exception": false,
     "start_time": "2021-06-23T15:57:14.787167",
     "status": "completed"
    },
    "tags": []
   },
   "outputs": [],
   "source": [
    "temp_img, _ =  dataset.__getitem__(0) # We don't need label, so _"
   ]
  },
  {
   "cell_type": "code",
   "execution_count": null,
   "id": "green-remains",
   "metadata": {
    "execution": {
     "iopub.execute_input": "2021-06-23T15:57:14.963788Z",
     "iopub.status.busy": "2021-06-23T15:57:14.963291Z",
     "iopub.status.idle": "2021-06-23T15:57:14.968631Z",
     "shell.execute_reply": "2021-06-23T15:57:14.969017Z",
     "shell.execute_reply.started": "2021-06-14T10:50:39.088149Z"
    },
    "papermill": {
     "duration": 0.056322,
     "end_time": "2021-06-23T15:57:14.969147",
     "exception": false,
     "start_time": "2021-06-23T15:57:14.912825",
     "status": "completed"
    },
    "tags": []
   },
   "outputs": [],
   "source": [
    "temp_img.size() # before ToTensor() : (28,28,1), after : (1,28,28)"
   ]
  },
  {
   "cell_type": "code",
   "execution_count": null,
   "id": "grave-acceptance",
   "metadata": {
    "execution": {
     "iopub.execute_input": "2021-06-23T15:57:15.068995Z",
     "iopub.status.busy": "2021-06-23T15:57:15.068434Z",
     "iopub.status.idle": "2021-06-23T15:57:15.094488Z",
     "shell.execute_reply": "2021-06-23T15:57:15.094092Z",
     "shell.execute_reply.started": "2021-06-14T10:50:39.100745Z"
    },
    "papermill": {
     "duration": 0.078227,
     "end_time": "2021-06-23T15:57:15.094597",
     "exception": false,
     "start_time": "2021-06-23T15:57:15.016370",
     "status": "completed"
    },
    "tags": []
   },
   "outputs": [],
   "source": [
    "temp_img.max(), temp_img.min() # before Normalize([0.5],[0.5]) : 0 ~ 1, after : -1 ~ 1"
   ]
  },
  {
   "attachments": {},
   "cell_type": "markdown",
   "id": "exceptional-mailman",
   "metadata": {
    "execution": {
     "iopub.execute_input": "2021-06-13T03:11:55.363449Z",
     "iopub.status.busy": "2021-06-13T03:11:55.363084Z",
     "iopub.status.idle": "2021-06-13T03:11:55.369074Z",
     "shell.execute_reply": "2021-06-13T03:11:55.367783Z",
     "shell.execute_reply.started": "2021-06-13T03:11:55.363409Z"
    },
    "papermill": {
     "duration": 0.047497,
     "end_time": "2021-06-23T15:57:15.189549",
     "exception": false,
     "start_time": "2021-06-23T15:57:15.142052",
     "status": "completed"
    },
    "tags": []
   },
   "source": [
    "> TEST CODE : Define dataloader that can load image by batch"
   ]
  },
  {
   "cell_type": "code",
   "execution_count": null,
   "id": "caroline-miami",
   "metadata": {
    "execution": {
     "iopub.execute_input": "2021-06-23T15:57:15.288936Z",
     "iopub.status.busy": "2021-06-23T15:57:15.288397Z",
     "iopub.status.idle": "2021-06-23T15:57:15.292247Z",
     "shell.execute_reply": "2021-06-23T15:57:15.291798Z",
     "shell.execute_reply.started": "2021-06-14T10:50:39.110729Z"
    },
    "papermill": {
     "duration": 0.055199,
     "end_time": "2021-06-23T15:57:15.292360",
     "exception": false,
     "start_time": "2021-06-23T15:57:15.237161",
     "status": "completed"
    },
    "tags": []
   },
   "outputs": [],
   "source": [
    "batch_size = 64 # suggested default, size of the batches\n",
    "dataloader = DataLoader( # torch.utils.data.DataLoader\n",
    "    dataset,\n",
    "    batch_size=batch_size,\n",
    "    shuffle=True\n",
    ")"
   ]
  },
  {
   "cell_type": "code",
   "execution_count": null,
   "id": "structural-australia",
   "metadata": {
    "execution": {
     "iopub.execute_input": "2021-06-23T15:57:15.392293Z",
     "iopub.status.busy": "2021-06-23T15:57:15.391720Z",
     "iopub.status.idle": "2021-06-23T15:57:15.426120Z",
     "shell.execute_reply": "2021-06-23T15:57:15.426658Z",
     "shell.execute_reply.started": "2021-06-14T10:50:39.11758Z"
    },
    "papermill": {
     "duration": 0.087219,
     "end_time": "2021-06-23T15:57:15.426841",
     "exception": false,
     "start_time": "2021-06-23T15:57:15.339622",
     "status": "completed"
    },
    "tags": []
   },
   "outputs": [],
   "source": [
    "# temp_images, _ = iter(dataloader).next() # We don't use label, so _\n",
    "# print('images shape on batch size = {}'.format(temp_images.size()))"
   ]
  },
  {
   "attachments": {},
   "cell_type": "markdown",
   "id": "studied-signal",
   "metadata": {
    "papermill": {
     "duration": 0.047707,
     "end_time": "2021-06-23T15:57:15.523375",
     "exception": false,
     "start_time": "2021-06-23T15:57:15.475668",
     "status": "completed"
    },
    "tags": []
   },
   "source": [
    "> Read More\n",
    "1. [torchvision.transforms](https://pytorch.org/vision/stable/transforms.html)\n",
    "    - .ToTensor | Convert a PIL Image or numpy.ndarray to tensor. This transform does not support torchscript.\n",
    "    - .ToTensor | Converts a PIL Image or numpy.ndarray (H x W x C) in the range [0, 255] to a torch.FloatTensor of shape (C x H x W) in the range [0.0, 1.0] if the PIL Image belongs to one of the modes (L, LA, P, I, F, RGB, YCbCr, RGBA, CMYK, 1) or if the numpy.ndarray has dtype = np.uint8"
   ]
  },
  {
   "attachments": {},
   "cell_type": "markdown",
   "id": "presidential-alert",
   "metadata": {
    "papermill": {
     "duration": 0.047404,
     "end_time": "2021-06-23T15:57:15.618538",
     "exception": false,
     "start_time": "2021-06-23T15:57:15.571134",
     "status": "completed"
    },
    "tags": []
   },
   "source": [
    "### Step 9. Define optimizers"
   ]
  },
  {
   "cell_type": "code",
   "execution_count": null,
   "id": "prerequisite-conditioning",
   "metadata": {
    "execution": {
     "iopub.execute_input": "2021-06-23T15:57:15.718722Z",
     "iopub.status.busy": "2021-06-23T15:57:15.718222Z",
     "iopub.status.idle": "2021-06-23T15:57:15.721605Z",
     "shell.execute_reply": "2021-06-23T15:57:15.722090Z",
     "shell.execute_reply.started": "2021-06-14T10:50:39.156536Z"
    },
    "papermill": {
     "duration": 0.055714,
     "end_time": "2021-06-23T15:57:15.722282",
     "exception": false,
     "start_time": "2021-06-23T15:57:15.666568",
     "status": "completed"
    },
    "tags": []
   },
   "outputs": [],
   "source": [
    "# suggested default - beta parameters (decay of first order momentum of gradients)\n",
    "b1 = 0.5\n",
    "b2 = 0.999\n",
    "\n",
    "# suggested default - learning rate\n",
    "lr = 0.0002 "
   ]
  },
  {
   "cell_type": "code",
   "execution_count": null,
   "id": "silver-platform",
   "metadata": {
    "execution": {
     "iopub.execute_input": "2021-06-23T15:57:15.824835Z",
     "iopub.status.busy": "2021-06-23T15:57:15.823431Z",
     "iopub.status.idle": "2021-06-23T15:57:15.826263Z",
     "shell.execute_reply": "2021-06-23T15:57:15.825745Z",
     "shell.execute_reply.started": "2021-06-14T10:50:39.162408Z"
    },
    "papermill": {
     "duration": 0.055974,
     "end_time": "2021-06-23T15:57:15.826384",
     "exception": false,
     "start_time": "2021-06-23T15:57:15.770410",
     "status": "completed"
    },
    "tags": []
   },
   "outputs": [],
   "source": [
    "optimizer_G = torch.optim.Adam(generator.parameters(), lr=lr, betas=(b1,b2))\n",
    "optimizer_D = torch.optim.Adam(discriminator.parameters(), lr=lr, betas=(b1,b2))"
   ]
  },
  {
   "attachments": {},
   "cell_type": "markdown",
   "id": "compressed-southwest",
   "metadata": {
    "papermill": {
     "duration": 0.047834,
     "end_time": "2021-06-23T15:57:15.922701",
     "exception": false,
     "start_time": "2021-06-23T15:57:15.874867",
     "status": "completed"
    },
    "tags": []
   },
   "source": [
    "### Step 10. Training"
   ]
  },
  {
   "attachments": {},
   "cell_type": "markdown",
   "id": "difficult-jurisdiction",
   "metadata": {
    "execution": {
     "iopub.execute_input": "2021-06-23T15:52:41.513601Z",
     "iopub.status.busy": "2021-06-23T15:52:41.513245Z",
     "iopub.status.idle": "2021-06-23T15:52:42.137653Z",
     "shell.execute_reply": "2021-06-23T15:52:42.136721Z",
     "shell.execute_reply.started": "2021-06-23T15:52:41.513557Z"
    },
    "papermill": {
     "duration": 0.048128,
     "end_time": "2021-06-23T15:57:16.018611",
     "exception": false,
     "start_time": "2021-06-23T15:57:15.970483",
     "status": "completed"
    },
    "tags": []
   },
   "source": [
    "![image](https://img1.daumcdn.net/thumb/R1280x0/?scode=mtistory2&fname=https%3A%2F%2Fblog.kakaocdn.net%2Fdn%2FpMdme%2FbtqA1ArBCOy%2FqqGg7IvV0hpqVkvBuEFpJK%2Fimg.png)"
   ]
  },
  {
   "cell_type": "code",
   "execution_count": null,
   "id": "gentle-eagle",
   "metadata": {
    "execution": {
     "iopub.execute_input": "2021-06-23T15:57:16.118867Z",
     "iopub.status.busy": "2021-06-23T15:57:16.118335Z",
     "iopub.status.idle": "2021-06-23T15:57:16.122355Z",
     "shell.execute_reply": "2021-06-23T15:57:16.121941Z",
     "shell.execute_reply.started": "2021-06-14T10:50:39.171443Z"
    },
    "papermill": {
     "duration": 0.05538,
     "end_time": "2021-06-23T15:57:16.122461",
     "exception": false,
     "start_time": "2021-06-23T15:57:16.067081",
     "status": "completed"
    },
    "tags": []
   },
   "outputs": [],
   "source": [
    "Tensor = torch.cuda.FloatTensor if cuda else torch.FloatTensor"
   ]
  },
  {
   "cell_type": "code",
   "execution_count": null,
   "id": "integrated-shipping",
   "metadata": {
    "execution": {
     "iopub.execute_input": "2021-06-23T15:57:16.222243Z",
     "iopub.status.busy": "2021-06-23T15:57:16.221690Z",
     "iopub.status.idle": "2021-06-23T15:57:16.225482Z",
     "shell.execute_reply": "2021-06-23T15:57:16.225094Z",
     "shell.execute_reply.started": "2021-06-14T10:50:39.180476Z"
    },
    "papermill": {
     "duration": 0.05486,
     "end_time": "2021-06-23T15:57:16.225597",
     "exception": false,
     "start_time": "2021-06-23T15:57:16.170737",
     "status": "completed"
    },
    "tags": []
   },
   "outputs": [],
   "source": [
    "from tqdm.notebook import tqdm"
   ]
  },
  {
   "cell_type": "code",
   "execution_count": null,
   "id": "regulation-planet",
   "metadata": {
    "execution": {
     "iopub.execute_input": "2021-06-23T15:57:16.324996Z",
     "iopub.status.busy": "2021-06-23T15:57:16.324241Z",
     "iopub.status.idle": "2021-06-23T15:57:16.327009Z",
     "shell.execute_reply": "2021-06-23T15:57:16.326586Z",
     "shell.execute_reply.started": "2021-06-14T10:50:39.186495Z"
    },
    "papermill": {
     "duration": 0.054101,
     "end_time": "2021-06-23T15:57:16.327123",
     "exception": false,
     "start_time": "2021-06-23T15:57:16.273022",
     "status": "completed"
    },
    "tags": []
   },
   "outputs": [],
   "source": [
    "# Visualize result\n",
    "import matplotlib.pyplot as plt"
   ]
  },
  {
   "cell_type": "code",
   "execution_count": null,
   "id": "technical-catering",
   "metadata": {
    "execution": {
     "iopub.execute_input": "2021-06-23T15:57:16.436198Z",
     "iopub.status.busy": "2021-06-23T15:57:16.435641Z",
     "iopub.status.idle": "2021-06-23T16:01:21.638975Z",
     "shell.execute_reply": "2021-06-23T16:01:21.638520Z",
     "shell.execute_reply.started": "2021-06-14T10:50:39.195934Z"
    },
    "papermill": {
     "duration": 245.263847,
     "end_time": "2021-06-23T16:01:21.639099",
     "exception": false,
     "start_time": "2021-06-23T15:57:16.375252",
     "status": "completed"
    },
    "tags": []
   },
   "outputs": [],
   "source": [
    "n_epochs = 10 # suggested default = 200\n",
    "for epoch in range(n_epochs):\n",
    "    for i, (imgs, _) in enumerate(tqdm(dataloader)): # This code(enumerate) is dealt with once more in the *TEST_CODE below.\n",
    "                                                     # Used 'tqdm' for showing progress \n",
    "        \n",
    "        # Adversarial ground truths (For more detail, refer *Read_More below)\n",
    "        valid = Variable(Tensor(imgs.size(0), 1).fill_(1.0), requires_grad=False) # imgs.size(0) == batch_size(1 batch) == 64, *TEST_CODE\n",
    "        fake = Variable(Tensor(imgs.size(0), 1).fill_(0.0), requires_grad=False) # And Variable is for caclulate gradient. In fact, you can use it, but you don't have to. \n",
    "                                                                                # requires_grad=False is default in tensor type. *Read_More\n",
    "        \n",
    "        # Configure input\n",
    "        real_imgs = imgs.type(Tensor) # As mentioned, it is no longer necessary to wrap the tensor in a Variable.\n",
    "      # real_imgs = Variable(imgs.type(Tensor)) # requires_grad=False, Default! It's same.\n",
    "    \n",
    "# ------------\n",
    "# Train Generator\n",
    "# ------------\n",
    "        optimizer_G.zero_grad()\n",
    "        \n",
    "        # sample noise 'z' as generator input\n",
    "        z = Tensor(np.random.normal(0, 1, (imgs.shape[0],latent_dim))) # Random sampling Tensor(batch_size, latent_dim) of Gaussian distribution\n",
    "        # z.shape == torch.Size([64, 100])\n",
    "        \n",
    "        # Generate a batch of images\n",
    "        gen_imgs = generator(z)\n",
    "        # gen_imgs.shape == torch.Size([64, 1, 28, 28])\n",
    "        \n",
    "        # Loss measures generator's ability to fool the discriminator\n",
    "        g_loss = adversarial_loss(discriminator(gen_imgs), valid) # torch.nn.BCELoss() compare result(64x1) and valid(64x1, filled with 1)\n",
    "        \n",
    "        g_loss.backward()\n",
    "        optimizer_G.step()\n",
    "        \n",
    "# ------------\n",
    "# Train Discriminator\n",
    "# ------------\n",
    "        optimizer_D.zero_grad()\n",
    "        \n",
    "        # Measure discriminator's ability to classify real from generated samples\n",
    "        real_loss = adversarial_loss(discriminator(real_imgs), valid) # torch.nn.BCELoss() compare result(64x1) and valid(64x1, filled with 1)\n",
    "        fake_loss = adversarial_loss(discriminator(gen_imgs.detach()), fake) # We are learning the discriminator now. So have to use detach() \n",
    "                                                                             \n",
    "        d_loss = (real_loss + fake_loss) / 2\n",
    "        \n",
    "        d_loss.backward()# If didn't use detach() for gen_imgs, all weights of the generator will be calculated with backward(). \n",
    "        optimizer_D.step()\n",
    "         \n",
    "    \n",
    "\n",
    "# ------------\n",
    "# Real Time Visualization (While Training)\n",
    "# ------------\n",
    "        \n",
    "        sample_z_in_train = Tensor(np.random.normal(0, 1, (imgs.shape[0],latent_dim)))\n",
    "        # z.shape == torch.Size([64, 100])\n",
    "        sample_gen_imgs_in_train = generator(sample_z_in_train).detach().cpu()\n",
    "        # gen_imgs.shape == torch.Size([64, 1, 28, 28])\n",
    "        \n",
    "        if ((i+1) % 200) == 0: # show while batch - 200/657, 400/657, 600/657\n",
    "            nrow=1\n",
    "            ncols=5\n",
    "            fig, axes = plt.subplots(nrows=nrow,ncols=ncols, figsize=(8,2))\n",
    "            plt.suptitle('EPOCH : {} | BATCH(ITERATION) : {}'.format(epoch+1, i+1))\n",
    "            for ncol in range(ncols):\n",
    "                axes[ncol].imshow(sample_gen_imgs_in_train.permute(0,2,3,1)[ncol], cmap='gray')\n",
    "                axes[ncol].axis('off')\n",
    "            plt.show()\n",
    "    print(\n",
    "        \"[Epoch: %d/%d] [Batch: %d/%d] [D loss: %f] [G loss: %f]\"\n",
    "        % (epoch+1, n_epochs, i+1, len(dataloader), d_loss.item(), g_loss.item())\n",
    "    )"
   ]
  },
  {
   "attachments": {},
   "cell_type": "markdown",
   "id": "hungarian-carter",
   "metadata": {
    "papermill": {
     "duration": 0.093458,
     "end_time": "2021-06-23T16:01:21.826407",
     "exception": false,
     "start_time": "2021-06-23T16:01:21.732949",
     "status": "completed"
    },
    "tags": []
   },
   "source": [
    "> TEST CODE : enumerate >> [docs.python.org/enumerate](https://docs.python.org/3/library/functions.html#enumerate)"
   ]
  },
  {
   "cell_type": "code",
   "execution_count": null,
   "id": "single-religious",
   "metadata": {
    "execution": {
     "iopub.execute_input": "2021-06-23T16:01:22.021111Z",
     "iopub.status.busy": "2021-06-23T16:01:22.020359Z",
     "iopub.status.idle": "2021-06-23T16:01:22.164097Z",
     "shell.execute_reply": "2021-06-23T16:01:22.163179Z",
     "shell.execute_reply.started": "2021-06-14T10:54:35.546582Z"
    },
    "papermill": {
     "duration": 0.243827,
     "end_time": "2021-06-23T16:01:22.164257",
     "exception": false,
     "start_time": "2021-06-23T16:01:21.920430",
     "status": "completed"
    },
    "tags": []
   },
   "outputs": [],
   "source": [
    "# result of enumerate\n",
    "count = 1\n",
    "for i, (imgs,label) in enumerate(dataloader):\n",
    "    print('Shape of Batch Images : \\n', imgs.shape)\n",
    "    print('Labels (1~64) : \\n', label)\n",
    "    print('-'*100)\n",
    "    if count == 5:\n",
    "        break\n",
    "    else:\n",
    "        count += 1"
   ]
  },
  {
   "attachments": {},
   "cell_type": "markdown",
   "id": "spread-cornwall",
   "metadata": {
    "papermill": {
     "duration": 0.093449,
     "end_time": "2021-06-23T16:01:22.352527",
     "exception": false,
     "start_time": "2021-06-23T16:01:22.259078",
     "status": "completed"
    },
    "tags": []
   },
   "source": [
    "> TEST CODE : \n",
    "- Read CSV file\n",
    "- Tensor(imgs.size(0),1)\n",
    "- Tensor(imgs.size(0),1).fill_(1.0)"
   ]
  },
  {
   "cell_type": "code",
   "execution_count": null,
   "id": "minor-kelly",
   "metadata": {
    "execution": {
     "iopub.execute_input": "2021-06-23T16:01:22.544967Z",
     "iopub.status.busy": "2021-06-23T16:01:22.544445Z",
     "iopub.status.idle": "2021-06-23T16:01:22.575686Z",
     "shell.execute_reply": "2021-06-23T16:01:22.575279Z",
     "shell.execute_reply.started": "2021-06-14T10:54:35.682797Z"
    },
    "papermill": {
     "duration": 0.129401,
     "end_time": "2021-06-23T16:01:22.575805",
     "exception": false,
     "start_time": "2021-06-23T16:01:22.446404",
     "status": "completed"
    },
    "tags": []
   },
   "outputs": [],
   "source": [
    "Tensor(10,1) # Just 10 for a quick look. \n",
    "             # We dealt with Tensor(imgs.size(0),1) above. Tensor(64,1) <-- len(H) == batch_size == 64, len(W) == 1"
   ]
  },
  {
   "cell_type": "code",
   "execution_count": null,
   "id": "indian-symposium",
   "metadata": {
    "execution": {
     "iopub.execute_input": "2021-06-23T16:01:22.769071Z",
     "iopub.status.busy": "2021-06-23T16:01:22.768517Z",
     "iopub.status.idle": "2021-06-23T16:01:22.776873Z",
     "shell.execute_reply": "2021-06-23T16:01:22.776445Z",
     "shell.execute_reply.started": "2021-06-14T10:54:35.691997Z"
    },
    "papermill": {
     "duration": 0.107154,
     "end_time": "2021-06-23T16:01:22.777011",
     "exception": false,
     "start_time": "2021-06-23T16:01:22.669857",
     "status": "completed"
    },
    "tags": []
   },
   "outputs": [],
   "source": [
    "Tensor(10,1).fill_(1.0) # _ means inplace, fill the Tensor with 1.0"
   ]
  },
  {
   "attachments": {},
   "cell_type": "markdown",
   "id": "vietnamese-semester",
   "metadata": {
    "papermill": {
     "duration": 0.095177,
     "end_time": "2021-06-23T16:01:22.966008",
     "exception": false,
     "start_time": "2021-06-23T16:01:22.870831",
     "status": "completed"
    },
    "tags": []
   },
   "source": [
    "> TEST CODE : Variable and requires_grad"
   ]
  },
  {
   "cell_type": "code",
   "execution_count": null,
   "id": "painted-sucking",
   "metadata": {
    "execution": {
     "iopub.execute_input": "2021-06-23T16:01:23.160399Z",
     "iopub.status.busy": "2021-06-23T16:01:23.159661Z",
     "iopub.status.idle": "2021-06-23T16:01:23.189617Z",
     "shell.execute_reply": "2021-06-23T16:01:23.189998Z",
     "shell.execute_reply.started": "2021-06-14T10:54:35.703346Z"
    },
    "papermill": {
     "duration": 0.129719,
     "end_time": "2021-06-23T16:01:23.190140",
     "exception": false,
     "start_time": "2021-06-23T16:01:23.060421",
     "status": "completed"
    },
    "tags": []
   },
   "outputs": [],
   "source": [
    "sample_img = iter(dataloader).next()[0]"
   ]
  },
  {
   "cell_type": "code",
   "execution_count": null,
   "id": "civic-entry",
   "metadata": {
    "execution": {
     "iopub.execute_input": "2021-06-23T16:01:23.396327Z",
     "iopub.status.busy": "2021-06-23T16:01:23.395614Z",
     "iopub.status.idle": "2021-06-23T16:01:23.398606Z",
     "shell.execute_reply": "2021-06-23T16:01:23.399042Z",
     "shell.execute_reply.started": "2021-06-14T10:54:35.737932Z"
    },
    "papermill": {
     "duration": 0.114504,
     "end_time": "2021-06-23T16:01:23.399178",
     "exception": false,
     "start_time": "2021-06-23T16:01:23.284674",
     "status": "completed"
    },
    "tags": []
   },
   "outputs": [],
   "source": [
    "sample_img.shape, sample_img.dtype"
   ]
  },
  {
   "cell_type": "code",
   "execution_count": null,
   "id": "extensive-single",
   "metadata": {
    "execution": {
     "iopub.execute_input": "2021-06-23T16:01:23.593790Z",
     "iopub.status.busy": "2021-06-23T16:01:23.593225Z",
     "iopub.status.idle": "2021-06-23T16:01:23.598721Z",
     "shell.execute_reply": "2021-06-23T16:01:23.599093Z",
     "shell.execute_reply.started": "2021-06-14T10:54:35.744923Z"
    },
    "papermill": {
     "duration": 0.104388,
     "end_time": "2021-06-23T16:01:23.599229",
     "exception": false,
     "start_time": "2021-06-23T16:01:23.494841",
     "status": "completed"
    },
    "tags": []
   },
   "outputs": [],
   "source": [
    "sample_img.requires_grad # default : False "
   ]
  },
  {
   "cell_type": "code",
   "execution_count": null,
   "id": "royal-determination",
   "metadata": {
    "execution": {
     "iopub.execute_input": "2021-06-23T16:01:23.793742Z",
     "iopub.status.busy": "2021-06-23T16:01:23.793076Z",
     "iopub.status.idle": "2021-06-23T16:01:23.796155Z",
     "shell.execute_reply": "2021-06-23T16:01:23.796539Z",
     "shell.execute_reply.started": "2021-06-14T10:54:35.757151Z"
    },
    "papermill": {
     "duration": 0.103399,
     "end_time": "2021-06-23T16:01:23.796662",
     "exception": false,
     "start_time": "2021-06-23T16:01:23.693263",
     "status": "completed"
    },
    "tags": []
   },
   "outputs": [],
   "source": [
    "Variable(sample_img).requires_grad # exactly same"
   ]
  },
  {
   "cell_type": "code",
   "execution_count": null,
   "id": "limited-stone",
   "metadata": {
    "execution": {
     "iopub.execute_input": "2021-06-23T16:01:23.992751Z",
     "iopub.status.busy": "2021-06-23T16:01:23.992248Z",
     "iopub.status.idle": "2021-06-23T16:01:24.004223Z",
     "shell.execute_reply": "2021-06-23T16:01:24.003779Z",
     "shell.execute_reply.started": "2021-06-14T10:54:35.768555Z"
    },
    "papermill": {
     "duration": 0.113206,
     "end_time": "2021-06-23T16:01:24.004336",
     "exception": false,
     "start_time": "2021-06-23T16:01:23.891130",
     "status": "completed"
    },
    "tags": []
   },
   "outputs": [],
   "source": [
    "sample_img.requires_grad_(True) # set requires_grad to True, _ means inplace"
   ]
  },
  {
   "cell_type": "code",
   "execution_count": null,
   "id": "amazing-radar",
   "metadata": {
    "execution": {
     "iopub.execute_input": "2021-06-23T16:01:24.202628Z",
     "iopub.status.busy": "2021-06-23T16:01:24.201964Z",
     "iopub.status.idle": "2021-06-23T16:01:24.204957Z",
     "shell.execute_reply": "2021-06-23T16:01:24.205327Z",
     "shell.execute_reply.started": "2021-06-14T10:54:35.784539Z"
    },
    "papermill": {
     "duration": 0.104099,
     "end_time": "2021-06-23T16:01:24.205458",
     "exception": false,
     "start_time": "2021-06-23T16:01:24.101359",
     "status": "completed"
    },
    "tags": []
   },
   "outputs": [],
   "source": [
    "sample_img.requires_grad # Yes. requires_grad changed correctly. you don't need wrapping tensor with Variable. "
   ]
  },
  {
   "attachments": {},
   "cell_type": "markdown",
   "id": "engaged-money",
   "metadata": {
    "papermill": {
     "duration": 0.095807,
     "end_time": "2021-06-23T16:01:24.396317",
     "exception": false,
     "start_time": "2021-06-23T16:01:24.300510",
     "status": "completed"
    },
    "tags": []
   },
   "source": [
    "However, it can be confusing here. Obviously, the derivative is computed through the loss, but not a single `requires_grad` is set to `true`.\n",
    "\n",
    "Remember, It's different from `model's parameter`. Internally, the parameters of each Module are stored in Tensors with `requires_grad=True` !"
   ]
  },
  {
   "attachments": {},
   "cell_type": "markdown",
   "id": "sophisticated-decade",
   "metadata": {
    "papermill": {
     "duration": 0.095383,
     "end_time": "2021-06-23T16:01:24.627201",
     "exception": false,
     "start_time": "2021-06-23T16:01:24.531818",
     "status": "completed"
    },
    "tags": []
   },
   "source": [
    "> TEST CODE : Ramdom Sampling (H,W) from a normal(Gaussian) distribution "
   ]
  },
  {
   "cell_type": "code",
   "execution_count": null,
   "id": "desperate-grocery",
   "metadata": {
    "execution": {
     "iopub.execute_input": "2021-06-23T16:01:24.828279Z",
     "iopub.status.busy": "2021-06-23T16:01:24.827386Z",
     "iopub.status.idle": "2021-06-23T16:01:24.832811Z",
     "shell.execute_reply": "2021-06-23T16:01:24.833267Z",
     "shell.execute_reply.started": "2021-06-14T10:54:35.79203Z"
    },
    "papermill": {
     "duration": 0.10997,
     "end_time": "2021-06-23T16:01:24.833396",
     "exception": false,
     "start_time": "2021-06-23T16:01:24.723426",
     "status": "completed"
    },
    "tags": []
   },
   "outputs": [],
   "source": [
    "np.random.normal(0,1,(64,100))"
   ]
  },
  {
   "cell_type": "code",
   "execution_count": null,
   "id": "introductory-preliminary",
   "metadata": {
    "execution": {
     "iopub.execute_input": "2021-06-23T16:01:25.040046Z",
     "iopub.status.busy": "2021-06-23T16:01:25.039255Z",
     "iopub.status.idle": "2021-06-23T16:01:25.044699Z",
     "shell.execute_reply": "2021-06-23T16:01:25.045139Z",
     "shell.execute_reply.started": "2021-06-14T10:54:35.803063Z"
    },
    "papermill": {
     "duration": 0.112043,
     "end_time": "2021-06-23T16:01:25.045283",
     "exception": false,
     "start_time": "2021-06-23T16:01:24.933240",
     "status": "completed"
    },
    "tags": []
   },
   "outputs": [],
   "source": [
    "np.random.normal(0,1,(64,100)).shape"
   ]
  },
  {
   "attachments": {},
   "cell_type": "markdown",
   "id": "secondary-parker",
   "metadata": {
    "papermill": {
     "duration": 0.102628,
     "end_time": "2021-06-23T16:01:25.245334",
     "exception": false,
     "start_time": "2021-06-23T16:01:25.142706",
     "status": "completed"
    },
    "tags": []
   },
   "source": [
    "> TEST CODE : shape of z and gen_imgs and discriminator(gen_imgs)"
   ]
  },
  {
   "cell_type": "code",
   "execution_count": null,
   "id": "consecutive-combat",
   "metadata": {
    "execution": {
     "iopub.execute_input": "2021-06-23T16:01:25.473187Z",
     "iopub.status.busy": "2021-06-23T16:01:25.472244Z",
     "iopub.status.idle": "2021-06-23T16:01:25.477033Z",
     "shell.execute_reply": "2021-06-23T16:01:25.477469Z",
     "shell.execute_reply.started": "2021-06-14T10:54:35.811361Z"
    },
    "papermill": {
     "duration": 0.120456,
     "end_time": "2021-06-23T16:01:25.477618",
     "exception": false,
     "start_time": "2021-06-23T16:01:25.357162",
     "status": "completed"
    },
    "tags": []
   },
   "outputs": [],
   "source": [
    "# latent vector\n",
    "sample_z = Tensor(np.random.normal(0, 1, (64,100)))\n",
    "sample_z.shape"
   ]
  },
  {
   "cell_type": "code",
   "execution_count": null,
   "id": "functional-admission",
   "metadata": {
    "execution": {
     "iopub.execute_input": "2021-06-23T16:01:25.693463Z",
     "iopub.status.busy": "2021-06-23T16:01:25.692579Z",
     "iopub.status.idle": "2021-06-23T16:01:25.698274Z",
     "shell.execute_reply": "2021-06-23T16:01:25.697851Z",
     "shell.execute_reply.started": "2021-06-14T10:59:08.562087Z"
    },
    "papermill": {
     "duration": 0.113427,
     "end_time": "2021-06-23T16:01:25.698383",
     "exception": false,
     "start_time": "2021-06-23T16:01:25.584956",
     "status": "completed"
    },
    "tags": []
   },
   "outputs": [],
   "source": [
    "# generated images\n",
    "sample_gen_imgs = generator(sample_z)\n",
    "sample_gen_imgs.shape"
   ]
  },
  {
   "cell_type": "code",
   "execution_count": null,
   "id": "sophisticated-hobby",
   "metadata": {
    "execution": {
     "iopub.execute_input": "2021-06-23T16:01:25.983730Z",
     "iopub.status.busy": "2021-06-23T16:01:25.982904Z",
     "iopub.status.idle": "2021-06-23T16:01:25.987687Z",
     "shell.execute_reply": "2021-06-23T16:01:25.988291Z",
     "shell.execute_reply.started": "2021-06-14T10:59:10.151599Z"
    },
    "papermill": {
     "duration": 0.183416,
     "end_time": "2021-06-23T16:01:25.988486",
     "exception": false,
     "start_time": "2021-06-23T16:01:25.805070",
     "status": "completed"
    },
    "tags": []
   },
   "outputs": [],
   "source": [
    "# discrimination result\n",
    "sample_discrim_result = discriminator(sample_gen_imgs)\n",
    "sample_discrim_result.shape"
   ]
  },
  {
   "attachments": {},
   "cell_type": "markdown",
   "id": "neural-dealing",
   "metadata": {
    "execution": {
     "iopub.execute_input": "2021-06-13T03:32:26.913329Z",
     "iopub.status.busy": "2021-06-13T03:32:26.913011Z",
     "iopub.status.idle": "2021-06-13T03:32:26.917897Z",
     "shell.execute_reply": "2021-06-13T03:32:26.917117Z",
     "shell.execute_reply.started": "2021-06-13T03:32:26.913302Z"
    },
    "papermill": {
     "duration": 0.155962,
     "end_time": "2021-06-23T16:01:26.321505",
     "exception": false,
     "start_time": "2021-06-23T16:01:26.165543",
     "status": "completed"
    },
    "tags": []
   },
   "source": [
    "> TEST CODE : g_loss"
   ]
  },
  {
   "cell_type": "code",
   "execution_count": null,
   "id": "affected-polyester",
   "metadata": {
    "execution": {
     "iopub.execute_input": "2021-06-23T16:01:26.544323Z",
     "iopub.status.busy": "2021-06-23T16:01:26.543688Z",
     "iopub.status.idle": "2021-06-23T16:01:26.546534Z",
     "shell.execute_reply": "2021-06-23T16:01:26.546956Z",
     "shell.execute_reply.started": "2021-06-14T10:59:11.16077Z"
    },
    "papermill": {
     "duration": 0.108467,
     "end_time": "2021-06-23T16:01:26.547086",
     "exception": false,
     "start_time": "2021-06-23T16:01:26.438619",
     "status": "completed"
    },
    "tags": []
   },
   "outputs": [],
   "source": [
    "adversarial_loss"
   ]
  },
  {
   "cell_type": "code",
   "execution_count": null,
   "id": "valid-lightweight",
   "metadata": {
    "execution": {
     "iopub.execute_input": "2021-06-23T16:01:26.751060Z",
     "iopub.status.busy": "2021-06-23T16:01:26.750266Z",
     "iopub.status.idle": "2021-06-23T16:01:26.825686Z",
     "shell.execute_reply": "2021-06-23T16:01:26.826115Z",
     "shell.execute_reply.started": "2021-06-14T10:59:11.855853Z"
    },
    "papermill": {
     "duration": 0.181723,
     "end_time": "2021-06-23T16:01:26.826261",
     "exception": false,
     "start_time": "2021-06-23T16:01:26.644538",
     "status": "completed"
    },
    "tags": []
   },
   "outputs": [],
   "source": [
    "sample_valid.shape"
   ]
  },
  {
   "cell_type": "code",
   "execution_count": null,
   "id": "contemporary-israeli",
   "metadata": {
    "execution": {
     "iopub.execute_input": "2021-06-23T16:01:27.029420Z",
     "iopub.status.busy": "2021-06-23T16:01:27.028555Z",
     "iopub.status.idle": "2021-06-23T16:01:27.038642Z",
     "shell.execute_reply": "2021-06-23T16:01:27.038244Z",
     "shell.execute_reply.started": "2021-06-14T10:59:12.126787Z"
    },
    "papermill": {
     "duration": 0.113229,
     "end_time": "2021-06-23T16:01:27.038758",
     "exception": false,
     "start_time": "2021-06-23T16:01:26.925529",
     "status": "completed"
    },
    "tags": []
   },
   "outputs": [],
   "source": [
    "sample_valid = Tensor(64,1).fill_(1.0)\n",
    "sample_g_loss = adversarial_loss(sample_discrim_result, sample_valid)\n",
    "sample_g_loss"
   ]
  },
  {
   "attachments": {},
   "cell_type": "markdown",
   "id": "animal-invite",
   "metadata": {
    "execution": {
     "iopub.execute_input": "2021-06-14T08:28:06.971551Z",
     "iopub.status.busy": "2021-06-14T08:28:06.970211Z",
     "iopub.status.idle": "2021-06-14T08:28:06.994767Z",
     "shell.execute_reply": "2021-06-14T08:28:06.992784Z",
     "shell.execute_reply.started": "2021-06-14T08:28:06.971123Z"
    },
    "papermill": {
     "duration": 0.098351,
     "end_time": "2021-06-23T16:01:27.235817",
     "exception": false,
     "start_time": "2021-06-23T16:01:27.137466",
     "status": "completed"
    },
    "tags": []
   },
   "source": [
    "> TEST CODE : detach()\n",
    "- refer : [What is PyTorch '.detach()' method? - theroyakash, 2020-11](https://dev.to/theroyakash/what-is-pytorch-detach-method-15oo)"
   ]
  },
  {
   "cell_type": "code",
   "execution_count": null,
   "id": "176af18b",
   "metadata": {},
   "outputs": [],
   "source": [
    "try:\n",
    "    import torchviz\n",
    "except ImportError:\n",
    "    %%python -m pip install torchviz"
   ]
  },
  {
   "cell_type": "code",
   "execution_count": null,
   "id": "homeless-romance",
   "metadata": {
    "execution": {
     "iopub.execute_input": "2021-06-23T16:01:27.437646Z",
     "iopub.status.busy": "2021-06-23T16:01:27.437126Z",
     "iopub.status.idle": "2021-06-23T16:01:36.280693Z",
     "shell.execute_reply": "2021-06-23T16:01:36.279722Z",
     "shell.execute_reply.started": "2021-06-14T10:59:15.994378Z"
    },
    "papermill": {
     "duration": 8.946518,
     "end_time": "2021-06-23T16:01:36.280837",
     "exception": false,
     "start_time": "2021-06-23T16:01:27.334319",
     "status": "completed"
    },
    "tags": []
   },
   "outputs": [],
   "source": [
    "import torchviz"
   ]
  },
  {
   "cell_type": "code",
   "execution_count": null,
   "id": "musical-signal",
   "metadata": {
    "execution": {
     "iopub.execute_input": "2021-06-23T16:01:36.489226Z",
     "iopub.status.busy": "2021-06-23T16:01:36.488427Z",
     "iopub.status.idle": "2021-06-23T16:01:36.899235Z",
     "shell.execute_reply": "2021-06-23T16:01:36.899986Z",
     "shell.execute_reply.started": "2021-06-14T10:59:24.944228Z"
    },
    "papermill": {
     "duration": 0.517407,
     "end_time": "2021-06-23T16:01:36.900188",
     "exception": false,
     "start_time": "2021-06-23T16:01:36.382781",
     "status": "completed"
    },
    "tags": []
   },
   "outputs": [],
   "source": [
    "X = torch.ones((28,28), dtype=torch.float32, requires_grad=True)\n",
    "square_X = X**2\n",
    "cubic_X = X**3\n",
    "\n",
    "result = (square_X+cubic_X).sum()\n",
    "\n",
    "torchviz.make_dot(result)\n"
   ]
  },
  {
   "cell_type": "code",
   "execution_count": null,
   "id": "built-ordering",
   "metadata": {
    "execution": {
     "iopub.execute_input": "2021-06-23T16:01:37.231492Z",
     "iopub.status.busy": "2021-06-23T16:01:37.230687Z",
     "iopub.status.idle": "2021-06-23T16:01:37.321056Z",
     "shell.execute_reply": "2021-06-23T16:01:37.320546Z",
     "shell.execute_reply.started": "2021-06-14T10:59:25.321984Z"
    },
    "papermill": {
     "duration": 0.260396,
     "end_time": "2021-06-23T16:01:37.321182",
     "exception": false,
     "start_time": "2021-06-23T16:01:37.060786",
     "status": "completed"
    },
    "tags": []
   },
   "outputs": [],
   "source": [
    "X = torch.ones((28,28), dtype=torch.float32, requires_grad=True)\n",
    "square_X = X**2\n",
    "cubic_X = X.detach()**3\n",
    "\n",
    "result = (square_X+cubic_X).sum()\n",
    "\n",
    "torchviz.make_dot(result)"
   ]
  },
  {
   "attachments": {},
   "cell_type": "markdown",
   "id": "optimum-cameroon",
   "metadata": {
    "papermill": {
     "duration": 0.101571,
     "end_time": "2021-06-23T16:01:37.524745",
     "exception": false,
     "start_time": "2021-06-23T16:01:37.423174",
     "status": "completed"
    },
    "tags": []
   },
   "source": [
    "> Read More\n",
    "- [What is Ground Truth? - Definition from Techpedia](https://www.techopedia.com/definition/32514/ground-truth)\n",
    "- [tqdm. A Fast, Extensible Progress Bar for Python and CLI](https://github.com/tqdm/tqdm)\n",
    "- [Variables are no longer necessary to use autograd with tensors](https://pytorch.org/docs/stable/autograd.html#variable-deprecated)\n",
    "- [np.random.normal(loc=0.0, scale=1.0, size=None)](https://numpy.org/doc/stable/reference/random/generated/numpy.random.normal.html)\n",
    "\n"
   ]
  },
  {
   "attachments": {},
   "cell_type": "markdown",
   "id": "ordinary-frame",
   "metadata": {
    "papermill": {
     "duration": 0.101557,
     "end_time": "2021-06-23T16:01:37.728722",
     "exception": false,
     "start_time": "2021-06-23T16:01:37.627165",
     "status": "completed"
    },
    "tags": []
   },
   "source": [
    "--------------"
   ]
  },
  {
   "attachments": {},
   "cell_type": "markdown",
   "id": "ordinary-grave",
   "metadata": {
    "papermill": {
     "duration": 0.102336,
     "end_time": "2021-06-23T16:01:37.932326",
     "exception": false,
     "start_time": "2021-06-23T16:01:37.829990",
     "status": "completed"
    },
    "tags": []
   },
   "source": [
    "\n",
    "So far, we have completed the basic model of gan and tested the model through mnist data.\n",
    "\n",
    "I plan to implement and test more various gan models from the very basics through this series, so let's study together!\n",
    "\n",
    "Thank you and Enjoy your Kaggle! :)"
   ]
  }
 ],
 "metadata": {
  "kernelspec": {
   "display_name": "Python 3",
   "language": "python",
   "name": "python3"
  },
  "language_info": {
   "codemirror_mode": {
    "name": "ipython",
    "version": 3
   },
   "file_extension": ".py",
   "mimetype": "text/x-python",
   "name": "python",
   "nbconvert_exporter": "python",
   "pygments_lexer": "ipython3",
   "version": "3.8.17"
  },
  "papermill": {
   "default_parameters": {},
   "duration": 286.978272,
   "end_time": "2021-06-23T16:01:39.946658",
   "environment_variables": {},
   "exception": null,
   "input_path": "__notebook__.ipynb",
   "output_path": "__notebook__.ipynb",
   "parameters": {},
   "start_time": "2021-06-23T15:56:52.968386",
   "version": "2.3.3"
  },
  "widgets": {
   "application/vnd.jupyter.widget-state+json": {
    "state": {
     "00ea1fe84b3f464fb2ad7ae511737289": {
      "model_module": "@jupyter-widgets/base",
      "model_module_version": "1.2.0",
      "model_name": "LayoutModel",
      "state": {
       "_model_module": "@jupyter-widgets/base",
       "_model_module_version": "1.2.0",
       "_model_name": "LayoutModel",
       "_view_count": null,
       "_view_module": "@jupyter-widgets/base",
       "_view_module_version": "1.2.0",
       "_view_name": "LayoutView",
       "align_content": null,
       "align_items": null,
       "align_self": null,
       "border": null,
       "bottom": null,
       "display": null,
       "flex": null,
       "flex_flow": null,
       "grid_area": null,
       "grid_auto_columns": null,
       "grid_auto_flow": null,
       "grid_auto_rows": null,
       "grid_column": null,
       "grid_gap": null,
       "grid_row": null,
       "grid_template_areas": null,
       "grid_template_columns": null,
       "grid_template_rows": null,
       "height": null,
       "justify_content": null,
       "justify_items": null,
       "left": null,
       "margin": null,
       "max_height": null,
       "max_width": null,
       "min_height": null,
       "min_width": null,
       "object_fit": null,
       "object_position": null,
       "order": null,
       "overflow": null,
       "overflow_x": null,
       "overflow_y": null,
       "padding": null,
       "right": null,
       "top": null,
       "visibility": null,
       "width": null
      }
     },
     "0796a390849e46279a75ef59bdb57bca": {
      "model_module": "@jupyter-widgets/base",
      "model_module_version": "1.2.0",
      "model_name": "LayoutModel",
      "state": {
       "_model_module": "@jupyter-widgets/base",
       "_model_module_version": "1.2.0",
       "_model_name": "LayoutModel",
       "_view_count": null,
       "_view_module": "@jupyter-widgets/base",
       "_view_module_version": "1.2.0",
       "_view_name": "LayoutView",
       "align_content": null,
       "align_items": null,
       "align_self": null,
       "border": null,
       "bottom": null,
       "display": null,
       "flex": null,
       "flex_flow": null,
       "grid_area": null,
       "grid_auto_columns": null,
       "grid_auto_flow": null,
       "grid_auto_rows": null,
       "grid_column": null,
       "grid_gap": null,
       "grid_row": null,
       "grid_template_areas": null,
       "grid_template_columns": null,
       "grid_template_rows": null,
       "height": null,
       "justify_content": null,
       "justify_items": null,
       "left": null,
       "margin": null,
       "max_height": null,
       "max_width": null,
       "min_height": null,
       "min_width": null,
       "object_fit": null,
       "object_position": null,
       "order": null,
       "overflow": null,
       "overflow_x": null,
       "overflow_y": null,
       "padding": null,
       "right": null,
       "top": null,
       "visibility": null,
       "width": null
      }
     },
     "10940b1c52184c59b54c18f5d2a73fc4": {
      "model_module": "@jupyter-widgets/base",
      "model_module_version": "1.2.0",
      "model_name": "LayoutModel",
      "state": {
       "_model_module": "@jupyter-widgets/base",
       "_model_module_version": "1.2.0",
       "_model_name": "LayoutModel",
       "_view_count": null,
       "_view_module": "@jupyter-widgets/base",
       "_view_module_version": "1.2.0",
       "_view_name": "LayoutView",
       "align_content": null,
       "align_items": null,
       "align_self": null,
       "border": null,
       "bottom": null,
       "display": null,
       "flex": null,
       "flex_flow": null,
       "grid_area": null,
       "grid_auto_columns": null,
       "grid_auto_flow": null,
       "grid_auto_rows": null,
       "grid_column": null,
       "grid_gap": null,
       "grid_row": null,
       "grid_template_areas": null,
       "grid_template_columns": null,
       "grid_template_rows": null,
       "height": null,
       "justify_content": null,
       "justify_items": null,
       "left": null,
       "margin": null,
       "max_height": null,
       "max_width": null,
       "min_height": null,
       "min_width": null,
       "object_fit": null,
       "object_position": null,
       "order": null,
       "overflow": null,
       "overflow_x": null,
       "overflow_y": null,
       "padding": null,
       "right": null,
       "top": null,
       "visibility": null,
       "width": null
      }
     },
     "11f573c710de4f12b363ab29be9cc1b1": {
      "model_module": "@jupyter-widgets/base",
      "model_module_version": "1.2.0",
      "model_name": "LayoutModel",
      "state": {
       "_model_module": "@jupyter-widgets/base",
       "_model_module_version": "1.2.0",
       "_model_name": "LayoutModel",
       "_view_count": null,
       "_view_module": "@jupyter-widgets/base",
       "_view_module_version": "1.2.0",
       "_view_name": "LayoutView",
       "align_content": null,
       "align_items": null,
       "align_self": null,
       "border": null,
       "bottom": null,
       "display": null,
       "flex": null,
       "flex_flow": null,
       "grid_area": null,
       "grid_auto_columns": null,
       "grid_auto_flow": null,
       "grid_auto_rows": null,
       "grid_column": null,
       "grid_gap": null,
       "grid_row": null,
       "grid_template_areas": null,
       "grid_template_columns": null,
       "grid_template_rows": null,
       "height": null,
       "justify_content": null,
       "justify_items": null,
       "left": null,
       "margin": null,
       "max_height": null,
       "max_width": null,
       "min_height": null,
       "min_width": null,
       "object_fit": null,
       "object_position": null,
       "order": null,
       "overflow": null,
       "overflow_x": null,
       "overflow_y": null,
       "padding": null,
       "right": null,
       "top": null,
       "visibility": null,
       "width": null
      }
     },
     "13f4cf64050c409db3fbf22f45eddb33": {
      "model_module": "@jupyter-widgets/controls",
      "model_module_version": "1.5.0",
      "model_name": "HTMLModel",
      "state": {
       "_dom_classes": [],
       "_model_module": "@jupyter-widgets/controls",
       "_model_module_version": "1.5.0",
       "_model_name": "HTMLModel",
       "_view_count": null,
       "_view_module": "@jupyter-widgets/controls",
       "_view_module_version": "1.5.0",
       "_view_name": "HTMLView",
       "description": "",
       "description_tooltip": null,
       "layout": "IPY_MODEL_5af97e1e4521462f8de6f241c64f6422",
       "placeholder": "​",
       "style": "IPY_MODEL_9667c1a2d9154acea439a2125181363b",
       "value": " 657/657 [00:24&lt;00:00, 27.66it/s]"
      }
     },
     "1afcaba751824a65a2a07b22a580e31a": {
      "model_module": "@jupyter-widgets/controls",
      "model_module_version": "1.5.0",
      "model_name": "FloatProgressModel",
      "state": {
       "_dom_classes": [],
       "_model_module": "@jupyter-widgets/controls",
       "_model_module_version": "1.5.0",
       "_model_name": "FloatProgressModel",
       "_view_count": null,
       "_view_module": "@jupyter-widgets/controls",
       "_view_module_version": "1.5.0",
       "_view_name": "ProgressView",
       "bar_style": "success",
       "description": "",
       "description_tooltip": null,
       "layout": "IPY_MODEL_74aa368d24144d7e817723f905bfafe6",
       "max": 657,
       "min": 0,
       "orientation": "horizontal",
       "style": "IPY_MODEL_d74d423226f3469b9f8e2be0241729bf",
       "value": 657
      }
     },
     "1c15e717e3aa4fe48246527648c420ed": {
      "model_module": "@jupyter-widgets/controls",
      "model_module_version": "1.5.0",
      "model_name": "DescriptionStyleModel",
      "state": {
       "_model_module": "@jupyter-widgets/controls",
       "_model_module_version": "1.5.0",
       "_model_name": "DescriptionStyleModel",
       "_view_count": null,
       "_view_module": "@jupyter-widgets/base",
       "_view_module_version": "1.2.0",
       "_view_name": "StyleView",
       "description_width": ""
      }
     },
     "1de68e6dd372473c82f719d4fcaea276": {
      "model_module": "@jupyter-widgets/controls",
      "model_module_version": "1.5.0",
      "model_name": "DescriptionStyleModel",
      "state": {
       "_model_module": "@jupyter-widgets/controls",
       "_model_module_version": "1.5.0",
       "_model_name": "DescriptionStyleModel",
       "_view_count": null,
       "_view_module": "@jupyter-widgets/base",
       "_view_module_version": "1.2.0",
       "_view_name": "StyleView",
       "description_width": ""
      }
     },
     "1f5c294af6d4440dbc86851e89ae4c31": {
      "model_module": "@jupyter-widgets/controls",
      "model_module_version": "1.5.0",
      "model_name": "HTMLModel",
      "state": {
       "_dom_classes": [],
       "_model_module": "@jupyter-widgets/controls",
       "_model_module_version": "1.5.0",
       "_model_name": "HTMLModel",
       "_view_count": null,
       "_view_module": "@jupyter-widgets/controls",
       "_view_module_version": "1.5.0",
       "_view_name": "HTMLView",
       "description": "",
       "description_tooltip": null,
       "layout": "IPY_MODEL_af394e201add46e9abe472f9a490a8be",
       "placeholder": "​",
       "style": "IPY_MODEL_c28386e43cc14a54905f1f3d3ebc2eb5",
       "value": " 657/657 [00:25&lt;00:00, 27.97it/s]"
      }
     },
     "26b8b862785a46e696fe305cd175d9f0": {
      "model_module": "@jupyter-widgets/controls",
      "model_module_version": "1.5.0",
      "model_name": "HBoxModel",
      "state": {
       "_dom_classes": [],
       "_model_module": "@jupyter-widgets/controls",
       "_model_module_version": "1.5.0",
       "_model_name": "HBoxModel",
       "_view_count": null,
       "_view_module": "@jupyter-widgets/controls",
       "_view_module_version": "1.5.0",
       "_view_name": "HBoxView",
       "box_style": "",
       "children": [
        "IPY_MODEL_d351317f45b04f2cb617ceed330ba2da",
        "IPY_MODEL_d61b1613dcf446269922d16e5ca1b9e9",
        "IPY_MODEL_1f5c294af6d4440dbc86851e89ae4c31"
       ],
       "layout": "IPY_MODEL_78634d2739cb4b61bfdeab45e01ce351"
      }
     },
     "26d2f0a392fa439a906fb6f419467a9b": {
      "model_module": "@jupyter-widgets/controls",
      "model_module_version": "1.5.0",
      "model_name": "HBoxModel",
      "state": {
       "_dom_classes": [],
       "_model_module": "@jupyter-widgets/controls",
       "_model_module_version": "1.5.0",
       "_model_name": "HBoxModel",
       "_view_count": null,
       "_view_module": "@jupyter-widgets/controls",
       "_view_module_version": "1.5.0",
       "_view_name": "HBoxView",
       "box_style": "",
       "children": [
        "IPY_MODEL_b585d0a1a2a7487ba4360ef8c7cb5757",
        "IPY_MODEL_f0dda3d346b045cb9ef179271cbfa74e",
        "IPY_MODEL_da056fc5555842799d417845736e15cb"
       ],
       "layout": "IPY_MODEL_e7c39ad74f1943449f98430722ab57db"
      }
     },
     "26fc2a3eba58411db6d67f78ed8ac799": {
      "model_module": "@jupyter-widgets/base",
      "model_module_version": "1.2.0",
      "model_name": "LayoutModel",
      "state": {
       "_model_module": "@jupyter-widgets/base",
       "_model_module_version": "1.2.0",
       "_model_name": "LayoutModel",
       "_view_count": null,
       "_view_module": "@jupyter-widgets/base",
       "_view_module_version": "1.2.0",
       "_view_name": "LayoutView",
       "align_content": null,
       "align_items": null,
       "align_self": null,
       "border": null,
       "bottom": null,
       "display": null,
       "flex": null,
       "flex_flow": null,
       "grid_area": null,
       "grid_auto_columns": null,
       "grid_auto_flow": null,
       "grid_auto_rows": null,
       "grid_column": null,
       "grid_gap": null,
       "grid_row": null,
       "grid_template_areas": null,
       "grid_template_columns": null,
       "grid_template_rows": null,
       "height": null,
       "justify_content": null,
       "justify_items": null,
       "left": null,
       "margin": null,
       "max_height": null,
       "max_width": null,
       "min_height": null,
       "min_width": null,
       "object_fit": null,
       "object_position": null,
       "order": null,
       "overflow": null,
       "overflow_x": null,
       "overflow_y": null,
       "padding": null,
       "right": null,
       "top": null,
       "visibility": null,
       "width": null
      }
     },
     "2a7006517ace417f8a37e0723be586d8": {
      "model_module": "@jupyter-widgets/controls",
      "model_module_version": "1.5.0",
      "model_name": "FloatProgressModel",
      "state": {
       "_dom_classes": [],
       "_model_module": "@jupyter-widgets/controls",
       "_model_module_version": "1.5.0",
       "_model_name": "FloatProgressModel",
       "_view_count": null,
       "_view_module": "@jupyter-widgets/controls",
       "_view_module_version": "1.5.0",
       "_view_name": "ProgressView",
       "bar_style": "success",
       "description": "",
       "description_tooltip": null,
       "layout": "IPY_MODEL_499399703a3f44f1bd9f5cd8edcedbc5",
       "max": 657,
       "min": 0,
       "orientation": "horizontal",
       "style": "IPY_MODEL_ce22d35cf22e4e23b90cf5dce9668ef9",
       "value": 657
      }
     },
     "2bb4a38ebe974b2db48cdb3e18998ba4": {
      "model_module": "@jupyter-widgets/base",
      "model_module_version": "1.2.0",
      "model_name": "LayoutModel",
      "state": {
       "_model_module": "@jupyter-widgets/base",
       "_model_module_version": "1.2.0",
       "_model_name": "LayoutModel",
       "_view_count": null,
       "_view_module": "@jupyter-widgets/base",
       "_view_module_version": "1.2.0",
       "_view_name": "LayoutView",
       "align_content": null,
       "align_items": null,
       "align_self": null,
       "border": null,
       "bottom": null,
       "display": null,
       "flex": null,
       "flex_flow": null,
       "grid_area": null,
       "grid_auto_columns": null,
       "grid_auto_flow": null,
       "grid_auto_rows": null,
       "grid_column": null,
       "grid_gap": null,
       "grid_row": null,
       "grid_template_areas": null,
       "grid_template_columns": null,
       "grid_template_rows": null,
       "height": null,
       "justify_content": null,
       "justify_items": null,
       "left": null,
       "margin": null,
       "max_height": null,
       "max_width": null,
       "min_height": null,
       "min_width": null,
       "object_fit": null,
       "object_position": null,
       "order": null,
       "overflow": null,
       "overflow_x": null,
       "overflow_y": null,
       "padding": null,
       "right": null,
       "top": null,
       "visibility": null,
       "width": null
      }
     },
     "3073c1ae09e94b9cb65521636157ceb8": {
      "model_module": "@jupyter-widgets/controls",
      "model_module_version": "1.5.0",
      "model_name": "HTMLModel",
      "state": {
       "_dom_classes": [],
       "_model_module": "@jupyter-widgets/controls",
       "_model_module_version": "1.5.0",
       "_model_name": "HTMLModel",
       "_view_count": null,
       "_view_module": "@jupyter-widgets/controls",
       "_view_module_version": "1.5.0",
       "_view_name": "HTMLView",
       "description": "",
       "description_tooltip": null,
       "layout": "IPY_MODEL_94e48be2add14b6c9fecfb3c5f37e78a",
       "placeholder": "​",
       "style": "IPY_MODEL_d13ba0fb53a04cd7ba9f92d2d5de30cf",
       "value": "100%"
      }
     },
     "30bdcff68a604ae6a2d32320c9fb1501": {
      "model_module": "@jupyter-widgets/base",
      "model_module_version": "1.2.0",
      "model_name": "LayoutModel",
      "state": {
       "_model_module": "@jupyter-widgets/base",
       "_model_module_version": "1.2.0",
       "_model_name": "LayoutModel",
       "_view_count": null,
       "_view_module": "@jupyter-widgets/base",
       "_view_module_version": "1.2.0",
       "_view_name": "LayoutView",
       "align_content": null,
       "align_items": null,
       "align_self": null,
       "border": null,
       "bottom": null,
       "display": null,
       "flex": null,
       "flex_flow": null,
       "grid_area": null,
       "grid_auto_columns": null,
       "grid_auto_flow": null,
       "grid_auto_rows": null,
       "grid_column": null,
       "grid_gap": null,
       "grid_row": null,
       "grid_template_areas": null,
       "grid_template_columns": null,
       "grid_template_rows": null,
       "height": null,
       "justify_content": null,
       "justify_items": null,
       "left": null,
       "margin": null,
       "max_height": null,
       "max_width": null,
       "min_height": null,
       "min_width": null,
       "object_fit": null,
       "object_position": null,
       "order": null,
       "overflow": null,
       "overflow_x": null,
       "overflow_y": null,
       "padding": null,
       "right": null,
       "top": null,
       "visibility": null,
       "width": null
      }
     },
     "364ac99f14e2414484d26bf0e7533d9c": {
      "model_module": "@jupyter-widgets/controls",
      "model_module_version": "1.5.0",
      "model_name": "DescriptionStyleModel",
      "state": {
       "_model_module": "@jupyter-widgets/controls",
       "_model_module_version": "1.5.0",
       "_model_name": "DescriptionStyleModel",
       "_view_count": null,
       "_view_module": "@jupyter-widgets/base",
       "_view_module_version": "1.2.0",
       "_view_name": "StyleView",
       "description_width": ""
      }
     },
     "376695367d114b38a6389f581898c25d": {
      "model_module": "@jupyter-widgets/base",
      "model_module_version": "1.2.0",
      "model_name": "LayoutModel",
      "state": {
       "_model_module": "@jupyter-widgets/base",
       "_model_module_version": "1.2.0",
       "_model_name": "LayoutModel",
       "_view_count": null,
       "_view_module": "@jupyter-widgets/base",
       "_view_module_version": "1.2.0",
       "_view_name": "LayoutView",
       "align_content": null,
       "align_items": null,
       "align_self": null,
       "border": null,
       "bottom": null,
       "display": null,
       "flex": null,
       "flex_flow": null,
       "grid_area": null,
       "grid_auto_columns": null,
       "grid_auto_flow": null,
       "grid_auto_rows": null,
       "grid_column": null,
       "grid_gap": null,
       "grid_row": null,
       "grid_template_areas": null,
       "grid_template_columns": null,
       "grid_template_rows": null,
       "height": null,
       "justify_content": null,
       "justify_items": null,
       "left": null,
       "margin": null,
       "max_height": null,
       "max_width": null,
       "min_height": null,
       "min_width": null,
       "object_fit": null,
       "object_position": null,
       "order": null,
       "overflow": null,
       "overflow_x": null,
       "overflow_y": null,
       "padding": null,
       "right": null,
       "top": null,
       "visibility": null,
       "width": null
      }
     },
     "38fc601aca384a1385b0b1bb1964a3d0": {
      "model_module": "@jupyter-widgets/base",
      "model_module_version": "1.2.0",
      "model_name": "LayoutModel",
      "state": {
       "_model_module": "@jupyter-widgets/base",
       "_model_module_version": "1.2.0",
       "_model_name": "LayoutModel",
       "_view_count": null,
       "_view_module": "@jupyter-widgets/base",
       "_view_module_version": "1.2.0",
       "_view_name": "LayoutView",
       "align_content": null,
       "align_items": null,
       "align_self": null,
       "border": null,
       "bottom": null,
       "display": null,
       "flex": null,
       "flex_flow": null,
       "grid_area": null,
       "grid_auto_columns": null,
       "grid_auto_flow": null,
       "grid_auto_rows": null,
       "grid_column": null,
       "grid_gap": null,
       "grid_row": null,
       "grid_template_areas": null,
       "grid_template_columns": null,
       "grid_template_rows": null,
       "height": null,
       "justify_content": null,
       "justify_items": null,
       "left": null,
       "margin": null,
       "max_height": null,
       "max_width": null,
       "min_height": null,
       "min_width": null,
       "object_fit": null,
       "object_position": null,
       "order": null,
       "overflow": null,
       "overflow_x": null,
       "overflow_y": null,
       "padding": null,
       "right": null,
       "top": null,
       "visibility": null,
       "width": null
      }
     },
     "3c196902134f4810ba85b125bea1ac91": {
      "model_module": "@jupyter-widgets/controls",
      "model_module_version": "1.5.0",
      "model_name": "HTMLModel",
      "state": {
       "_dom_classes": [],
       "_model_module": "@jupyter-widgets/controls",
       "_model_module_version": "1.5.0",
       "_model_name": "HTMLModel",
       "_view_count": null,
       "_view_module": "@jupyter-widgets/controls",
       "_view_module_version": "1.5.0",
       "_view_name": "HTMLView",
       "description": "",
       "description_tooltip": null,
       "layout": "IPY_MODEL_c3fbae9daf3a49e0976c608835f1532d",
       "placeholder": "​",
       "style": "IPY_MODEL_4367a0f51de646deb3aa24a3456c4353",
       "value": " 657/657 [00:24&lt;00:00, 19.28it/s]"
      }
     },
     "3caa196ded9a49609d86c8a1a3768bcd": {
      "model_module": "@jupyter-widgets/controls",
      "model_module_version": "1.5.0",
      "model_name": "FloatProgressModel",
      "state": {
       "_dom_classes": [],
       "_model_module": "@jupyter-widgets/controls",
       "_model_module_version": "1.5.0",
       "_model_name": "FloatProgressModel",
       "_view_count": null,
       "_view_module": "@jupyter-widgets/controls",
       "_view_module_version": "1.5.0",
       "_view_name": "ProgressView",
       "bar_style": "success",
       "description": "",
       "description_tooltip": null,
       "layout": "IPY_MODEL_c0cb2de5915e4c47915aa66601c341f6",
       "max": 657,
       "min": 0,
       "orientation": "horizontal",
       "style": "IPY_MODEL_fbcddbd9b6614d67ae4ca0b82fc331d1",
       "value": 657
      }
     },
     "3dcf80ce06424d31b606a417e48712c7": {
      "model_module": "@jupyter-widgets/controls",
      "model_module_version": "1.5.0",
      "model_name": "HTMLModel",
      "state": {
       "_dom_classes": [],
       "_model_module": "@jupyter-widgets/controls",
       "_model_module_version": "1.5.0",
       "_model_name": "HTMLModel",
       "_view_count": null,
       "_view_module": "@jupyter-widgets/controls",
       "_view_module_version": "1.5.0",
       "_view_name": "HTMLView",
       "description": "",
       "description_tooltip": null,
       "layout": "IPY_MODEL_c89b8b828822404daf1fa685e319ba8d",
       "placeholder": "​",
       "style": "IPY_MODEL_910fcb8ec2954c3e860d48690dd5da3e",
       "value": " 657/657 [00:24&lt;00:00, 29.14it/s]"
      }
     },
     "3f0489754d6a4ba7bd8ffe3e2e363df6": {
      "model_module": "@jupyter-widgets/controls",
      "model_module_version": "1.5.0",
      "model_name": "HTMLModel",
      "state": {
       "_dom_classes": [],
       "_model_module": "@jupyter-widgets/controls",
       "_model_module_version": "1.5.0",
       "_model_name": "HTMLModel",
       "_view_count": null,
       "_view_module": "@jupyter-widgets/controls",
       "_view_module_version": "1.5.0",
       "_view_name": "HTMLView",
       "description": "",
       "description_tooltip": null,
       "layout": "IPY_MODEL_e8f7d7f183b7443f9ff69e947b247e37",
       "placeholder": "​",
       "style": "IPY_MODEL_65796f55197c445a8a079c4aa483a568",
       "value": "100%"
      }
     },
     "4367a0f51de646deb3aa24a3456c4353": {
      "model_module": "@jupyter-widgets/controls",
      "model_module_version": "1.5.0",
      "model_name": "DescriptionStyleModel",
      "state": {
       "_model_module": "@jupyter-widgets/controls",
       "_model_module_version": "1.5.0",
       "_model_name": "DescriptionStyleModel",
       "_view_count": null,
       "_view_module": "@jupyter-widgets/base",
       "_view_module_version": "1.2.0",
       "_view_name": "StyleView",
       "description_width": ""
      }
     },
     "45ecabcaf96f49fe9d3bb2f79f5e60c5": {
      "model_module": "@jupyter-widgets/base",
      "model_module_version": "1.2.0",
      "model_name": "LayoutModel",
      "state": {
       "_model_module": "@jupyter-widgets/base",
       "_model_module_version": "1.2.0",
       "_model_name": "LayoutModel",
       "_view_count": null,
       "_view_module": "@jupyter-widgets/base",
       "_view_module_version": "1.2.0",
       "_view_name": "LayoutView",
       "align_content": null,
       "align_items": null,
       "align_self": null,
       "border": null,
       "bottom": null,
       "display": null,
       "flex": null,
       "flex_flow": null,
       "grid_area": null,
       "grid_auto_columns": null,
       "grid_auto_flow": null,
       "grid_auto_rows": null,
       "grid_column": null,
       "grid_gap": null,
       "grid_row": null,
       "grid_template_areas": null,
       "grid_template_columns": null,
       "grid_template_rows": null,
       "height": null,
       "justify_content": null,
       "justify_items": null,
       "left": null,
       "margin": null,
       "max_height": null,
       "max_width": null,
       "min_height": null,
       "min_width": null,
       "object_fit": null,
       "object_position": null,
       "order": null,
       "overflow": null,
       "overflow_x": null,
       "overflow_y": null,
       "padding": null,
       "right": null,
       "top": null,
       "visibility": null,
       "width": null
      }
     },
     "487121d14b7b47ca80fc319a9c30f3bc": {
      "model_module": "@jupyter-widgets/controls",
      "model_module_version": "1.5.0",
      "model_name": "FloatProgressModel",
      "state": {
       "_dom_classes": [],
       "_model_module": "@jupyter-widgets/controls",
       "_model_module_version": "1.5.0",
       "_model_name": "FloatProgressModel",
       "_view_count": null,
       "_view_module": "@jupyter-widgets/controls",
       "_view_module_version": "1.5.0",
       "_view_name": "ProgressView",
       "bar_style": "success",
       "description": "",
       "description_tooltip": null,
       "layout": "IPY_MODEL_f0905d4b3a4348a5b07c8e262e4b77c7",
       "max": 657,
       "min": 0,
       "orientation": "horizontal",
       "style": "IPY_MODEL_5249257a90614942a55c9ac930ad693d",
       "value": 657
      }
     },
     "499399703a3f44f1bd9f5cd8edcedbc5": {
      "model_module": "@jupyter-widgets/base",
      "model_module_version": "1.2.0",
      "model_name": "LayoutModel",
      "state": {
       "_model_module": "@jupyter-widgets/base",
       "_model_module_version": "1.2.0",
       "_model_name": "LayoutModel",
       "_view_count": null,
       "_view_module": "@jupyter-widgets/base",
       "_view_module_version": "1.2.0",
       "_view_name": "LayoutView",
       "align_content": null,
       "align_items": null,
       "align_self": null,
       "border": null,
       "bottom": null,
       "display": null,
       "flex": null,
       "flex_flow": null,
       "grid_area": null,
       "grid_auto_columns": null,
       "grid_auto_flow": null,
       "grid_auto_rows": null,
       "grid_column": null,
       "grid_gap": null,
       "grid_row": null,
       "grid_template_areas": null,
       "grid_template_columns": null,
       "grid_template_rows": null,
       "height": null,
       "justify_content": null,
       "justify_items": null,
       "left": null,
       "margin": null,
       "max_height": null,
       "max_width": null,
       "min_height": null,
       "min_width": null,
       "object_fit": null,
       "object_position": null,
       "order": null,
       "overflow": null,
       "overflow_x": null,
       "overflow_y": null,
       "padding": null,
       "right": null,
       "top": null,
       "visibility": null,
       "width": null
      }
     },
     "4e0afd731b724b708f9cb8a53ca6eb26": {
      "model_module": "@jupyter-widgets/controls",
      "model_module_version": "1.5.0",
      "model_name": "DescriptionStyleModel",
      "state": {
       "_model_module": "@jupyter-widgets/controls",
       "_model_module_version": "1.5.0",
       "_model_name": "DescriptionStyleModel",
       "_view_count": null,
       "_view_module": "@jupyter-widgets/base",
       "_view_module_version": "1.2.0",
       "_view_name": "StyleView",
       "description_width": ""
      }
     },
     "5035991d1327449b95dc4cd59b69ae52": {
      "model_module": "@jupyter-widgets/controls",
      "model_module_version": "1.5.0",
      "model_name": "HBoxModel",
      "state": {
       "_dom_classes": [],
       "_model_module": "@jupyter-widgets/controls",
       "_model_module_version": "1.5.0",
       "_model_name": "HBoxModel",
       "_view_count": null,
       "_view_module": "@jupyter-widgets/controls",
       "_view_module_version": "1.5.0",
       "_view_name": "HBoxView",
       "box_style": "",
       "children": [
        "IPY_MODEL_e398f09a63ed4f60b6bb7f91c6f3a835",
        "IPY_MODEL_487121d14b7b47ca80fc319a9c30f3bc",
        "IPY_MODEL_3c196902134f4810ba85b125bea1ac91"
       ],
       "layout": "IPY_MODEL_57bd41ae5ecf447cb1293405464a0fa5"
      }
     },
     "5249257a90614942a55c9ac930ad693d": {
      "model_module": "@jupyter-widgets/controls",
      "model_module_version": "1.5.0",
      "model_name": "ProgressStyleModel",
      "state": {
       "_model_module": "@jupyter-widgets/controls",
       "_model_module_version": "1.5.0",
       "_model_name": "ProgressStyleModel",
       "_view_count": null,
       "_view_module": "@jupyter-widgets/base",
       "_view_module_version": "1.2.0",
       "_view_name": "StyleView",
       "bar_color": null,
       "description_width": ""
      }
     },
     "527b83ecf4574fc48490053475be9883": {
      "model_module": "@jupyter-widgets/controls",
      "model_module_version": "1.5.0",
      "model_name": "HTMLModel",
      "state": {
       "_dom_classes": [],
       "_model_module": "@jupyter-widgets/controls",
       "_model_module_version": "1.5.0",
       "_model_name": "HTMLModel",
       "_view_count": null,
       "_view_module": "@jupyter-widgets/controls",
       "_view_module_version": "1.5.0",
       "_view_name": "HTMLView",
       "description": "",
       "description_tooltip": null,
       "layout": "IPY_MODEL_5e420b03dc3d4b39af45185c9ba4a0fb",
       "placeholder": "​",
       "style": "IPY_MODEL_d5865a50b06f4957881cfc2c9e8f5b9f",
       "value": "100%"
      }
     },
     "52f26303fd8e479f94667686c786dc11": {
      "model_module": "@jupyter-widgets/controls",
      "model_module_version": "1.5.0",
      "model_name": "DescriptionStyleModel",
      "state": {
       "_model_module": "@jupyter-widgets/controls",
       "_model_module_version": "1.5.0",
       "_model_name": "DescriptionStyleModel",
       "_view_count": null,
       "_view_module": "@jupyter-widgets/base",
       "_view_module_version": "1.2.0",
       "_view_name": "StyleView",
       "description_width": ""
      }
     },
     "56247af1cfaf4ce9932abcbcc113591b": {
      "model_module": "@jupyter-widgets/controls",
      "model_module_version": "1.5.0",
      "model_name": "FloatProgressModel",
      "state": {
       "_dom_classes": [],
       "_model_module": "@jupyter-widgets/controls",
       "_model_module_version": "1.5.0",
       "_model_name": "FloatProgressModel",
       "_view_count": null,
       "_view_module": "@jupyter-widgets/controls",
       "_view_module_version": "1.5.0",
       "_view_name": "ProgressView",
       "bar_style": "success",
       "description": "",
       "description_tooltip": null,
       "layout": "IPY_MODEL_26fc2a3eba58411db6d67f78ed8ac799",
       "max": 657,
       "min": 0,
       "orientation": "horizontal",
       "style": "IPY_MODEL_5f9d03ec0fbe4a34b5d17cf4b83e470a",
       "value": 657
      }
     },
     "57bd41ae5ecf447cb1293405464a0fa5": {
      "model_module": "@jupyter-widgets/base",
      "model_module_version": "1.2.0",
      "model_name": "LayoutModel",
      "state": {
       "_model_module": "@jupyter-widgets/base",
       "_model_module_version": "1.2.0",
       "_model_name": "LayoutModel",
       "_view_count": null,
       "_view_module": "@jupyter-widgets/base",
       "_view_module_version": "1.2.0",
       "_view_name": "LayoutView",
       "align_content": null,
       "align_items": null,
       "align_self": null,
       "border": null,
       "bottom": null,
       "display": null,
       "flex": null,
       "flex_flow": null,
       "grid_area": null,
       "grid_auto_columns": null,
       "grid_auto_flow": null,
       "grid_auto_rows": null,
       "grid_column": null,
       "grid_gap": null,
       "grid_row": null,
       "grid_template_areas": null,
       "grid_template_columns": null,
       "grid_template_rows": null,
       "height": null,
       "justify_content": null,
       "justify_items": null,
       "left": null,
       "margin": null,
       "max_height": null,
       "max_width": null,
       "min_height": null,
       "min_width": null,
       "object_fit": null,
       "object_position": null,
       "order": null,
       "overflow": null,
       "overflow_x": null,
       "overflow_y": null,
       "padding": null,
       "right": null,
       "top": null,
       "visibility": null,
       "width": null
      }
     },
     "59281402e86543bda2a315565cb61ff1": {
      "model_module": "@jupyter-widgets/controls",
      "model_module_version": "1.5.0",
      "model_name": "DescriptionStyleModel",
      "state": {
       "_model_module": "@jupyter-widgets/controls",
       "_model_module_version": "1.5.0",
       "_model_name": "DescriptionStyleModel",
       "_view_count": null,
       "_view_module": "@jupyter-widgets/base",
       "_view_module_version": "1.2.0",
       "_view_name": "StyleView",
       "description_width": ""
      }
     },
     "59dd5d7188874e0fbfee77c142a85b81": {
      "model_module": "@jupyter-widgets/base",
      "model_module_version": "1.2.0",
      "model_name": "LayoutModel",
      "state": {
       "_model_module": "@jupyter-widgets/base",
       "_model_module_version": "1.2.0",
       "_model_name": "LayoutModel",
       "_view_count": null,
       "_view_module": "@jupyter-widgets/base",
       "_view_module_version": "1.2.0",
       "_view_name": "LayoutView",
       "align_content": null,
       "align_items": null,
       "align_self": null,
       "border": null,
       "bottom": null,
       "display": null,
       "flex": null,
       "flex_flow": null,
       "grid_area": null,
       "grid_auto_columns": null,
       "grid_auto_flow": null,
       "grid_auto_rows": null,
       "grid_column": null,
       "grid_gap": null,
       "grid_row": null,
       "grid_template_areas": null,
       "grid_template_columns": null,
       "grid_template_rows": null,
       "height": null,
       "justify_content": null,
       "justify_items": null,
       "left": null,
       "margin": null,
       "max_height": null,
       "max_width": null,
       "min_height": null,
       "min_width": null,
       "object_fit": null,
       "object_position": null,
       "order": null,
       "overflow": null,
       "overflow_x": null,
       "overflow_y": null,
       "padding": null,
       "right": null,
       "top": null,
       "visibility": null,
       "width": null
      }
     },
     "5af97e1e4521462f8de6f241c64f6422": {
      "model_module": "@jupyter-widgets/base",
      "model_module_version": "1.2.0",
      "model_name": "LayoutModel",
      "state": {
       "_model_module": "@jupyter-widgets/base",
       "_model_module_version": "1.2.0",
       "_model_name": "LayoutModel",
       "_view_count": null,
       "_view_module": "@jupyter-widgets/base",
       "_view_module_version": "1.2.0",
       "_view_name": "LayoutView",
       "align_content": null,
       "align_items": null,
       "align_self": null,
       "border": null,
       "bottom": null,
       "display": null,
       "flex": null,
       "flex_flow": null,
       "grid_area": null,
       "grid_auto_columns": null,
       "grid_auto_flow": null,
       "grid_auto_rows": null,
       "grid_column": null,
       "grid_gap": null,
       "grid_row": null,
       "grid_template_areas": null,
       "grid_template_columns": null,
       "grid_template_rows": null,
       "height": null,
       "justify_content": null,
       "justify_items": null,
       "left": null,
       "margin": null,
       "max_height": null,
       "max_width": null,
       "min_height": null,
       "min_width": null,
       "object_fit": null,
       "object_position": null,
       "order": null,
       "overflow": null,
       "overflow_x": null,
       "overflow_y": null,
       "padding": null,
       "right": null,
       "top": null,
       "visibility": null,
       "width": null
      }
     },
     "5dddfdc837514df1a9294e186fe094b1": {
      "model_module": "@jupyter-widgets/controls",
      "model_module_version": "1.5.0",
      "model_name": "HBoxModel",
      "state": {
       "_dom_classes": [],
       "_model_module": "@jupyter-widgets/controls",
       "_model_module_version": "1.5.0",
       "_model_name": "HBoxModel",
       "_view_count": null,
       "_view_module": "@jupyter-widgets/controls",
       "_view_module_version": "1.5.0",
       "_view_name": "HBoxView",
       "box_style": "",
       "children": [
        "IPY_MODEL_ad4839e6395b440e8f5a3d2f51968382",
        "IPY_MODEL_56247af1cfaf4ce9932abcbcc113591b",
        "IPY_MODEL_f52c621fc9934470866c142bd43efbfb"
       ],
       "layout": "IPY_MODEL_7cffa8e9a51744279f59d911d8fa9f62"
      }
     },
     "5e420b03dc3d4b39af45185c9ba4a0fb": {
      "model_module": "@jupyter-widgets/base",
      "model_module_version": "1.2.0",
      "model_name": "LayoutModel",
      "state": {
       "_model_module": "@jupyter-widgets/base",
       "_model_module_version": "1.2.0",
       "_model_name": "LayoutModel",
       "_view_count": null,
       "_view_module": "@jupyter-widgets/base",
       "_view_module_version": "1.2.0",
       "_view_name": "LayoutView",
       "align_content": null,
       "align_items": null,
       "align_self": null,
       "border": null,
       "bottom": null,
       "display": null,
       "flex": null,
       "flex_flow": null,
       "grid_area": null,
       "grid_auto_columns": null,
       "grid_auto_flow": null,
       "grid_auto_rows": null,
       "grid_column": null,
       "grid_gap": null,
       "grid_row": null,
       "grid_template_areas": null,
       "grid_template_columns": null,
       "grid_template_rows": null,
       "height": null,
       "justify_content": null,
       "justify_items": null,
       "left": null,
       "margin": null,
       "max_height": null,
       "max_width": null,
       "min_height": null,
       "min_width": null,
       "object_fit": null,
       "object_position": null,
       "order": null,
       "overflow": null,
       "overflow_x": null,
       "overflow_y": null,
       "padding": null,
       "right": null,
       "top": null,
       "visibility": null,
       "width": null
      }
     },
     "5f9d03ec0fbe4a34b5d17cf4b83e470a": {
      "model_module": "@jupyter-widgets/controls",
      "model_module_version": "1.5.0",
      "model_name": "ProgressStyleModel",
      "state": {
       "_model_module": "@jupyter-widgets/controls",
       "_model_module_version": "1.5.0",
       "_model_name": "ProgressStyleModel",
       "_view_count": null,
       "_view_module": "@jupyter-widgets/base",
       "_view_module_version": "1.2.0",
       "_view_name": "StyleView",
       "bar_color": null,
       "description_width": ""
      }
     },
     "62824d520d51454ab962c164743edd45": {
      "model_module": "@jupyter-widgets/controls",
      "model_module_version": "1.5.0",
      "model_name": "HTMLModel",
      "state": {
       "_dom_classes": [],
       "_model_module": "@jupyter-widgets/controls",
       "_model_module_version": "1.5.0",
       "_model_name": "HTMLModel",
       "_view_count": null,
       "_view_module": "@jupyter-widgets/controls",
       "_view_module_version": "1.5.0",
       "_view_name": "HTMLView",
       "description": "",
       "description_tooltip": null,
       "layout": "IPY_MODEL_8483118ab6ac47a9b1a83a1809afbef3",
       "placeholder": "​",
       "style": "IPY_MODEL_1c15e717e3aa4fe48246527648c420ed",
       "value": " 657/657 [00:23&lt;00:00, 27.42it/s]"
      }
     },
     "648667f71e6a407995afcdb1ef6cb0bf": {
      "model_module": "@jupyter-widgets/base",
      "model_module_version": "1.2.0",
      "model_name": "LayoutModel",
      "state": {
       "_model_module": "@jupyter-widgets/base",
       "_model_module_version": "1.2.0",
       "_model_name": "LayoutModel",
       "_view_count": null,
       "_view_module": "@jupyter-widgets/base",
       "_view_module_version": "1.2.0",
       "_view_name": "LayoutView",
       "align_content": null,
       "align_items": null,
       "align_self": null,
       "border": null,
       "bottom": null,
       "display": null,
       "flex": null,
       "flex_flow": null,
       "grid_area": null,
       "grid_auto_columns": null,
       "grid_auto_flow": null,
       "grid_auto_rows": null,
       "grid_column": null,
       "grid_gap": null,
       "grid_row": null,
       "grid_template_areas": null,
       "grid_template_columns": null,
       "grid_template_rows": null,
       "height": null,
       "justify_content": null,
       "justify_items": null,
       "left": null,
       "margin": null,
       "max_height": null,
       "max_width": null,
       "min_height": null,
       "min_width": null,
       "object_fit": null,
       "object_position": null,
       "order": null,
       "overflow": null,
       "overflow_x": null,
       "overflow_y": null,
       "padding": null,
       "right": null,
       "top": null,
       "visibility": null,
       "width": null
      }
     },
     "65796f55197c445a8a079c4aa483a568": {
      "model_module": "@jupyter-widgets/controls",
      "model_module_version": "1.5.0",
      "model_name": "DescriptionStyleModel",
      "state": {
       "_model_module": "@jupyter-widgets/controls",
       "_model_module_version": "1.5.0",
       "_model_name": "DescriptionStyleModel",
       "_view_count": null,
       "_view_module": "@jupyter-widgets/base",
       "_view_module_version": "1.2.0",
       "_view_name": "StyleView",
       "description_width": ""
      }
     },
     "6ce90cbbdbdd49ef998f83165338f431": {
      "model_module": "@jupyter-widgets/controls",
      "model_module_version": "1.5.0",
      "model_name": "HBoxModel",
      "state": {
       "_dom_classes": [],
       "_model_module": "@jupyter-widgets/controls",
       "_model_module_version": "1.5.0",
       "_model_name": "HBoxModel",
       "_view_count": null,
       "_view_module": "@jupyter-widgets/controls",
       "_view_module_version": "1.5.0",
       "_view_name": "HBoxView",
       "box_style": "",
       "children": [
        "IPY_MODEL_92a266f234d14d378c99876fad24b384",
        "IPY_MODEL_eb6cf6b0cb7a42fd8542a0bc92ecb9a2",
        "IPY_MODEL_d46e2b52ee0e427a86af896303f0e9fb"
       ],
       "layout": "IPY_MODEL_00ea1fe84b3f464fb2ad7ae511737289"
      }
     },
     "6ea5f30dda814d889738257d40576cfe": {
      "model_module": "@jupyter-widgets/controls",
      "model_module_version": "1.5.0",
      "model_name": "HBoxModel",
      "state": {
       "_dom_classes": [],
       "_model_module": "@jupyter-widgets/controls",
       "_model_module_version": "1.5.0",
       "_model_name": "HBoxModel",
       "_view_count": null,
       "_view_module": "@jupyter-widgets/controls",
       "_view_module_version": "1.5.0",
       "_view_name": "HBoxView",
       "box_style": "",
       "children": [
        "IPY_MODEL_ae604788a85f4cb38be004234a0a0bcd",
        "IPY_MODEL_3caa196ded9a49609d86c8a1a3768bcd",
        "IPY_MODEL_13f4cf64050c409db3fbf22f45eddb33"
       ],
       "layout": "IPY_MODEL_376695367d114b38a6389f581898c25d"
      }
     },
     "6f2bfe34a58d47918c653096fc0e62d6": {
      "model_module": "@jupyter-widgets/base",
      "model_module_version": "1.2.0",
      "model_name": "LayoutModel",
      "state": {
       "_model_module": "@jupyter-widgets/base",
       "_model_module_version": "1.2.0",
       "_model_name": "LayoutModel",
       "_view_count": null,
       "_view_module": "@jupyter-widgets/base",
       "_view_module_version": "1.2.0",
       "_view_name": "LayoutView",
       "align_content": null,
       "align_items": null,
       "align_self": null,
       "border": null,
       "bottom": null,
       "display": null,
       "flex": null,
       "flex_flow": null,
       "grid_area": null,
       "grid_auto_columns": null,
       "grid_auto_flow": null,
       "grid_auto_rows": null,
       "grid_column": null,
       "grid_gap": null,
       "grid_row": null,
       "grid_template_areas": null,
       "grid_template_columns": null,
       "grid_template_rows": null,
       "height": null,
       "justify_content": null,
       "justify_items": null,
       "left": null,
       "margin": null,
       "max_height": null,
       "max_width": null,
       "min_height": null,
       "min_width": null,
       "object_fit": null,
       "object_position": null,
       "order": null,
       "overflow": null,
       "overflow_x": null,
       "overflow_y": null,
       "padding": null,
       "right": null,
       "top": null,
       "visibility": null,
       "width": null
      }
     },
     "7213e5949dfa4269ae3c66338879de84": {
      "model_module": "@jupyter-widgets/base",
      "model_module_version": "1.2.0",
      "model_name": "LayoutModel",
      "state": {
       "_model_module": "@jupyter-widgets/base",
       "_model_module_version": "1.2.0",
       "_model_name": "LayoutModel",
       "_view_count": null,
       "_view_module": "@jupyter-widgets/base",
       "_view_module_version": "1.2.0",
       "_view_name": "LayoutView",
       "align_content": null,
       "align_items": null,
       "align_self": null,
       "border": null,
       "bottom": null,
       "display": null,
       "flex": null,
       "flex_flow": null,
       "grid_area": null,
       "grid_auto_columns": null,
       "grid_auto_flow": null,
       "grid_auto_rows": null,
       "grid_column": null,
       "grid_gap": null,
       "grid_row": null,
       "grid_template_areas": null,
       "grid_template_columns": null,
       "grid_template_rows": null,
       "height": null,
       "justify_content": null,
       "justify_items": null,
       "left": null,
       "margin": null,
       "max_height": null,
       "max_width": null,
       "min_height": null,
       "min_width": null,
       "object_fit": null,
       "object_position": null,
       "order": null,
       "overflow": null,
       "overflow_x": null,
       "overflow_y": null,
       "padding": null,
       "right": null,
       "top": null,
       "visibility": null,
       "width": null
      }
     },
     "7291ef19dac2469888222ed9ff26fa07": {
      "model_module": "@jupyter-widgets/controls",
      "model_module_version": "1.5.0",
      "model_name": "HTMLModel",
      "state": {
       "_dom_classes": [],
       "_model_module": "@jupyter-widgets/controls",
       "_model_module_version": "1.5.0",
       "_model_name": "HTMLModel",
       "_view_count": null,
       "_view_module": "@jupyter-widgets/controls",
       "_view_module_version": "1.5.0",
       "_view_name": "HTMLView",
       "description": "",
       "description_tooltip": null,
       "layout": "IPY_MODEL_c1c3f5d25e764629a51e415d019772b1",
       "placeholder": "​",
       "style": "IPY_MODEL_4e0afd731b724b708f9cb8a53ca6eb26",
       "value": "100%"
      }
     },
     "74aa368d24144d7e817723f905bfafe6": {
      "model_module": "@jupyter-widgets/base",
      "model_module_version": "1.2.0",
      "model_name": "LayoutModel",
      "state": {
       "_model_module": "@jupyter-widgets/base",
       "_model_module_version": "1.2.0",
       "_model_name": "LayoutModel",
       "_view_count": null,
       "_view_module": "@jupyter-widgets/base",
       "_view_module_version": "1.2.0",
       "_view_name": "LayoutView",
       "align_content": null,
       "align_items": null,
       "align_self": null,
       "border": null,
       "bottom": null,
       "display": null,
       "flex": null,
       "flex_flow": null,
       "grid_area": null,
       "grid_auto_columns": null,
       "grid_auto_flow": null,
       "grid_auto_rows": null,
       "grid_column": null,
       "grid_gap": null,
       "grid_row": null,
       "grid_template_areas": null,
       "grid_template_columns": null,
       "grid_template_rows": null,
       "height": null,
       "justify_content": null,
       "justify_items": null,
       "left": null,
       "margin": null,
       "max_height": null,
       "max_width": null,
       "min_height": null,
       "min_width": null,
       "object_fit": null,
       "object_position": null,
       "order": null,
       "overflow": null,
       "overflow_x": null,
       "overflow_y": null,
       "padding": null,
       "right": null,
       "top": null,
       "visibility": null,
       "width": null
      }
     },
     "759efe7059604ad9905eb7f5f253b24f": {
      "model_module": "@jupyter-widgets/base",
      "model_module_version": "1.2.0",
      "model_name": "LayoutModel",
      "state": {
       "_model_module": "@jupyter-widgets/base",
       "_model_module_version": "1.2.0",
       "_model_name": "LayoutModel",
       "_view_count": null,
       "_view_module": "@jupyter-widgets/base",
       "_view_module_version": "1.2.0",
       "_view_name": "LayoutView",
       "align_content": null,
       "align_items": null,
       "align_self": null,
       "border": null,
       "bottom": null,
       "display": null,
       "flex": null,
       "flex_flow": null,
       "grid_area": null,
       "grid_auto_columns": null,
       "grid_auto_flow": null,
       "grid_auto_rows": null,
       "grid_column": null,
       "grid_gap": null,
       "grid_row": null,
       "grid_template_areas": null,
       "grid_template_columns": null,
       "grid_template_rows": null,
       "height": null,
       "justify_content": null,
       "justify_items": null,
       "left": null,
       "margin": null,
       "max_height": null,
       "max_width": null,
       "min_height": null,
       "min_width": null,
       "object_fit": null,
       "object_position": null,
       "order": null,
       "overflow": null,
       "overflow_x": null,
       "overflow_y": null,
       "padding": null,
       "right": null,
       "top": null,
       "visibility": null,
       "width": null
      }
     },
     "761e3c21239145a69b9393b5cfe22a67": {
      "model_module": "@jupyter-widgets/base",
      "model_module_version": "1.2.0",
      "model_name": "LayoutModel",
      "state": {
       "_model_module": "@jupyter-widgets/base",
       "_model_module_version": "1.2.0",
       "_model_name": "LayoutModel",
       "_view_count": null,
       "_view_module": "@jupyter-widgets/base",
       "_view_module_version": "1.2.0",
       "_view_name": "LayoutView",
       "align_content": null,
       "align_items": null,
       "align_self": null,
       "border": null,
       "bottom": null,
       "display": null,
       "flex": null,
       "flex_flow": null,
       "grid_area": null,
       "grid_auto_columns": null,
       "grid_auto_flow": null,
       "grid_auto_rows": null,
       "grid_column": null,
       "grid_gap": null,
       "grid_row": null,
       "grid_template_areas": null,
       "grid_template_columns": null,
       "grid_template_rows": null,
       "height": null,
       "justify_content": null,
       "justify_items": null,
       "left": null,
       "margin": null,
       "max_height": null,
       "max_width": null,
       "min_height": null,
       "min_width": null,
       "object_fit": null,
       "object_position": null,
       "order": null,
       "overflow": null,
       "overflow_x": null,
       "overflow_y": null,
       "padding": null,
       "right": null,
       "top": null,
       "visibility": null,
       "width": null
      }
     },
     "77702e4696574be9926696e9e395bf98": {
      "model_module": "@jupyter-widgets/controls",
      "model_module_version": "1.5.0",
      "model_name": "DescriptionStyleModel",
      "state": {
       "_model_module": "@jupyter-widgets/controls",
       "_model_module_version": "1.5.0",
       "_model_name": "DescriptionStyleModel",
       "_view_count": null,
       "_view_module": "@jupyter-widgets/base",
       "_view_module_version": "1.2.0",
       "_view_name": "StyleView",
       "description_width": ""
      }
     },
     "78634d2739cb4b61bfdeab45e01ce351": {
      "model_module": "@jupyter-widgets/base",
      "model_module_version": "1.2.0",
      "model_name": "LayoutModel",
      "state": {
       "_model_module": "@jupyter-widgets/base",
       "_model_module_version": "1.2.0",
       "_model_name": "LayoutModel",
       "_view_count": null,
       "_view_module": "@jupyter-widgets/base",
       "_view_module_version": "1.2.0",
       "_view_name": "LayoutView",
       "align_content": null,
       "align_items": null,
       "align_self": null,
       "border": null,
       "bottom": null,
       "display": null,
       "flex": null,
       "flex_flow": null,
       "grid_area": null,
       "grid_auto_columns": null,
       "grid_auto_flow": null,
       "grid_auto_rows": null,
       "grid_column": null,
       "grid_gap": null,
       "grid_row": null,
       "grid_template_areas": null,
       "grid_template_columns": null,
       "grid_template_rows": null,
       "height": null,
       "justify_content": null,
       "justify_items": null,
       "left": null,
       "margin": null,
       "max_height": null,
       "max_width": null,
       "min_height": null,
       "min_width": null,
       "object_fit": null,
       "object_position": null,
       "order": null,
       "overflow": null,
       "overflow_x": null,
       "overflow_y": null,
       "padding": null,
       "right": null,
       "top": null,
       "visibility": null,
       "width": null
      }
     },
     "7cffa8e9a51744279f59d911d8fa9f62": {
      "model_module": "@jupyter-widgets/base",
      "model_module_version": "1.2.0",
      "model_name": "LayoutModel",
      "state": {
       "_model_module": "@jupyter-widgets/base",
       "_model_module_version": "1.2.0",
       "_model_name": "LayoutModel",
       "_view_count": null,
       "_view_module": "@jupyter-widgets/base",
       "_view_module_version": "1.2.0",
       "_view_name": "LayoutView",
       "align_content": null,
       "align_items": null,
       "align_self": null,
       "border": null,
       "bottom": null,
       "display": null,
       "flex": null,
       "flex_flow": null,
       "grid_area": null,
       "grid_auto_columns": null,
       "grid_auto_flow": null,
       "grid_auto_rows": null,
       "grid_column": null,
       "grid_gap": null,
       "grid_row": null,
       "grid_template_areas": null,
       "grid_template_columns": null,
       "grid_template_rows": null,
       "height": null,
       "justify_content": null,
       "justify_items": null,
       "left": null,
       "margin": null,
       "max_height": null,
       "max_width": null,
       "min_height": null,
       "min_width": null,
       "object_fit": null,
       "object_position": null,
       "order": null,
       "overflow": null,
       "overflow_x": null,
       "overflow_y": null,
       "padding": null,
       "right": null,
       "top": null,
       "visibility": null,
       "width": null
      }
     },
     "7e081b18cb944772bfc95e10ca408176": {
      "model_module": "@jupyter-widgets/base",
      "model_module_version": "1.2.0",
      "model_name": "LayoutModel",
      "state": {
       "_model_module": "@jupyter-widgets/base",
       "_model_module_version": "1.2.0",
       "_model_name": "LayoutModel",
       "_view_count": null,
       "_view_module": "@jupyter-widgets/base",
       "_view_module_version": "1.2.0",
       "_view_name": "LayoutView",
       "align_content": null,
       "align_items": null,
       "align_self": null,
       "border": null,
       "bottom": null,
       "display": null,
       "flex": null,
       "flex_flow": null,
       "grid_area": null,
       "grid_auto_columns": null,
       "grid_auto_flow": null,
       "grid_auto_rows": null,
       "grid_column": null,
       "grid_gap": null,
       "grid_row": null,
       "grid_template_areas": null,
       "grid_template_columns": null,
       "grid_template_rows": null,
       "height": null,
       "justify_content": null,
       "justify_items": null,
       "left": null,
       "margin": null,
       "max_height": null,
       "max_width": null,
       "min_height": null,
       "min_width": null,
       "object_fit": null,
       "object_position": null,
       "order": null,
       "overflow": null,
       "overflow_x": null,
       "overflow_y": null,
       "padding": null,
       "right": null,
       "top": null,
       "visibility": null,
       "width": null
      }
     },
     "7ff72114af42477cb801afa08abee6e0": {
      "model_module": "@jupyter-widgets/controls",
      "model_module_version": "1.5.0",
      "model_name": "DescriptionStyleModel",
      "state": {
       "_model_module": "@jupyter-widgets/controls",
       "_model_module_version": "1.5.0",
       "_model_name": "DescriptionStyleModel",
       "_view_count": null,
       "_view_module": "@jupyter-widgets/base",
       "_view_module_version": "1.2.0",
       "_view_name": "StyleView",
       "description_width": ""
      }
     },
     "8483118ab6ac47a9b1a83a1809afbef3": {
      "model_module": "@jupyter-widgets/base",
      "model_module_version": "1.2.0",
      "model_name": "LayoutModel",
      "state": {
       "_model_module": "@jupyter-widgets/base",
       "_model_module_version": "1.2.0",
       "_model_name": "LayoutModel",
       "_view_count": null,
       "_view_module": "@jupyter-widgets/base",
       "_view_module_version": "1.2.0",
       "_view_name": "LayoutView",
       "align_content": null,
       "align_items": null,
       "align_self": null,
       "border": null,
       "bottom": null,
       "display": null,
       "flex": null,
       "flex_flow": null,
       "grid_area": null,
       "grid_auto_columns": null,
       "grid_auto_flow": null,
       "grid_auto_rows": null,
       "grid_column": null,
       "grid_gap": null,
       "grid_row": null,
       "grid_template_areas": null,
       "grid_template_columns": null,
       "grid_template_rows": null,
       "height": null,
       "justify_content": null,
       "justify_items": null,
       "left": null,
       "margin": null,
       "max_height": null,
       "max_width": null,
       "min_height": null,
       "min_width": null,
       "object_fit": null,
       "object_position": null,
       "order": null,
       "overflow": null,
       "overflow_x": null,
       "overflow_y": null,
       "padding": null,
       "right": null,
       "top": null,
       "visibility": null,
       "width": null
      }
     },
     "8962954ef0964db3938a2c5b27f93dbe": {
      "model_module": "@jupyter-widgets/controls",
      "model_module_version": "1.5.0",
      "model_name": "HTMLModel",
      "state": {
       "_dom_classes": [],
       "_model_module": "@jupyter-widgets/controls",
       "_model_module_version": "1.5.0",
       "_model_name": "HTMLModel",
       "_view_count": null,
       "_view_module": "@jupyter-widgets/controls",
       "_view_module_version": "1.5.0",
       "_view_name": "HTMLView",
       "description": "",
       "description_tooltip": null,
       "layout": "IPY_MODEL_10940b1c52184c59b54c18f5d2a73fc4",
       "placeholder": "​",
       "style": "IPY_MODEL_e57c96f860e1406baabf087fd89c97c5",
       "value": " 657/657 [00:24&lt;00:00, 28.92it/s]"
      }
     },
     "8aa10525c89145a78ba9fdbb838c0655": {
      "model_module": "@jupyter-widgets/controls",
      "model_module_version": "1.5.0",
      "model_name": "ProgressStyleModel",
      "state": {
       "_model_module": "@jupyter-widgets/controls",
       "_model_module_version": "1.5.0",
       "_model_name": "ProgressStyleModel",
       "_view_count": null,
       "_view_module": "@jupyter-widgets/base",
       "_view_module_version": "1.2.0",
       "_view_name": "StyleView",
       "bar_color": null,
       "description_width": ""
      }
     },
     "910fcb8ec2954c3e860d48690dd5da3e": {
      "model_module": "@jupyter-widgets/controls",
      "model_module_version": "1.5.0",
      "model_name": "DescriptionStyleModel",
      "state": {
       "_model_module": "@jupyter-widgets/controls",
       "_model_module_version": "1.5.0",
       "_model_name": "DescriptionStyleModel",
       "_view_count": null,
       "_view_module": "@jupyter-widgets/base",
       "_view_module_version": "1.2.0",
       "_view_name": "StyleView",
       "description_width": ""
      }
     },
     "92a266f234d14d378c99876fad24b384": {
      "model_module": "@jupyter-widgets/controls",
      "model_module_version": "1.5.0",
      "model_name": "HTMLModel",
      "state": {
       "_dom_classes": [],
       "_model_module": "@jupyter-widgets/controls",
       "_model_module_version": "1.5.0",
       "_model_name": "HTMLModel",
       "_view_count": null,
       "_view_module": "@jupyter-widgets/controls",
       "_view_module_version": "1.5.0",
       "_view_name": "HTMLView",
       "description": "",
       "description_tooltip": null,
       "layout": "IPY_MODEL_93b72d74e96b48db82af19f2ba63389e",
       "placeholder": "​",
       "style": "IPY_MODEL_59281402e86543bda2a315565cb61ff1",
       "value": "100%"
      }
     },
     "93b72d74e96b48db82af19f2ba63389e": {
      "model_module": "@jupyter-widgets/base",
      "model_module_version": "1.2.0",
      "model_name": "LayoutModel",
      "state": {
       "_model_module": "@jupyter-widgets/base",
       "_model_module_version": "1.2.0",
       "_model_name": "LayoutModel",
       "_view_count": null,
       "_view_module": "@jupyter-widgets/base",
       "_view_module_version": "1.2.0",
       "_view_name": "LayoutView",
       "align_content": null,
       "align_items": null,
       "align_self": null,
       "border": null,
       "bottom": null,
       "display": null,
       "flex": null,
       "flex_flow": null,
       "grid_area": null,
       "grid_auto_columns": null,
       "grid_auto_flow": null,
       "grid_auto_rows": null,
       "grid_column": null,
       "grid_gap": null,
       "grid_row": null,
       "grid_template_areas": null,
       "grid_template_columns": null,
       "grid_template_rows": null,
       "height": null,
       "justify_content": null,
       "justify_items": null,
       "left": null,
       "margin": null,
       "max_height": null,
       "max_width": null,
       "min_height": null,
       "min_width": null,
       "object_fit": null,
       "object_position": null,
       "order": null,
       "overflow": null,
       "overflow_x": null,
       "overflow_y": null,
       "padding": null,
       "right": null,
       "top": null,
       "visibility": null,
       "width": null
      }
     },
     "94e48be2add14b6c9fecfb3c5f37e78a": {
      "model_module": "@jupyter-widgets/base",
      "model_module_version": "1.2.0",
      "model_name": "LayoutModel",
      "state": {
       "_model_module": "@jupyter-widgets/base",
       "_model_module_version": "1.2.0",
       "_model_name": "LayoutModel",
       "_view_count": null,
       "_view_module": "@jupyter-widgets/base",
       "_view_module_version": "1.2.0",
       "_view_name": "LayoutView",
       "align_content": null,
       "align_items": null,
       "align_self": null,
       "border": null,
       "bottom": null,
       "display": null,
       "flex": null,
       "flex_flow": null,
       "grid_area": null,
       "grid_auto_columns": null,
       "grid_auto_flow": null,
       "grid_auto_rows": null,
       "grid_column": null,
       "grid_gap": null,
       "grid_row": null,
       "grid_template_areas": null,
       "grid_template_columns": null,
       "grid_template_rows": null,
       "height": null,
       "justify_content": null,
       "justify_items": null,
       "left": null,
       "margin": null,
       "max_height": null,
       "max_width": null,
       "min_height": null,
       "min_width": null,
       "object_fit": null,
       "object_position": null,
       "order": null,
       "overflow": null,
       "overflow_x": null,
       "overflow_y": null,
       "padding": null,
       "right": null,
       "top": null,
       "visibility": null,
       "width": null
      }
     },
     "9667c1a2d9154acea439a2125181363b": {
      "model_module": "@jupyter-widgets/controls",
      "model_module_version": "1.5.0",
      "model_name": "DescriptionStyleModel",
      "state": {
       "_model_module": "@jupyter-widgets/controls",
       "_model_module_version": "1.5.0",
       "_model_name": "DescriptionStyleModel",
       "_view_count": null,
       "_view_module": "@jupyter-widgets/base",
       "_view_module_version": "1.2.0",
       "_view_name": "StyleView",
       "description_width": ""
      }
     },
     "985cf4c41a7f46a7866397b336b84045": {
      "model_module": "@jupyter-widgets/controls",
      "model_module_version": "1.5.0",
      "model_name": "HTMLModel",
      "state": {
       "_dom_classes": [],
       "_model_module": "@jupyter-widgets/controls",
       "_model_module_version": "1.5.0",
       "_model_name": "HTMLModel",
       "_view_count": null,
       "_view_module": "@jupyter-widgets/controls",
       "_view_module_version": "1.5.0",
       "_view_name": "HTMLView",
       "description": "",
       "description_tooltip": null,
       "layout": "IPY_MODEL_761e3c21239145a69b9393b5cfe22a67",
       "placeholder": "​",
       "style": "IPY_MODEL_52f26303fd8e479f94667686c786dc11",
       "value": " 657/657 [00:24&lt;00:00, 27.99it/s]"
      }
     },
     "a5eac6c121464639960a3fa819b48f0d": {
      "model_module": "@jupyter-widgets/controls",
      "model_module_version": "1.5.0",
      "model_name": "HBoxModel",
      "state": {
       "_dom_classes": [],
       "_model_module": "@jupyter-widgets/controls",
       "_model_module_version": "1.5.0",
       "_model_name": "HBoxModel",
       "_view_count": null,
       "_view_module": "@jupyter-widgets/controls",
       "_view_module_version": "1.5.0",
       "_view_name": "HBoxView",
       "box_style": "",
       "children": [
        "IPY_MODEL_527b83ecf4574fc48490053475be9883",
        "IPY_MODEL_cc1c54fb239c4f7cbc74c882e87de564",
        "IPY_MODEL_62824d520d51454ab962c164743edd45"
       ],
       "layout": "IPY_MODEL_0796a390849e46279a75ef59bdb57bca"
      }
     },
     "a981a4c6d45441b2a001e9e808248bf4": {
      "model_module": "@jupyter-widgets/base",
      "model_module_version": "1.2.0",
      "model_name": "LayoutModel",
      "state": {
       "_model_module": "@jupyter-widgets/base",
       "_model_module_version": "1.2.0",
       "_model_name": "LayoutModel",
       "_view_count": null,
       "_view_module": "@jupyter-widgets/base",
       "_view_module_version": "1.2.0",
       "_view_name": "LayoutView",
       "align_content": null,
       "align_items": null,
       "align_self": null,
       "border": null,
       "bottom": null,
       "display": null,
       "flex": null,
       "flex_flow": null,
       "grid_area": null,
       "grid_auto_columns": null,
       "grid_auto_flow": null,
       "grid_auto_rows": null,
       "grid_column": null,
       "grid_gap": null,
       "grid_row": null,
       "grid_template_areas": null,
       "grid_template_columns": null,
       "grid_template_rows": null,
       "height": null,
       "justify_content": null,
       "justify_items": null,
       "left": null,
       "margin": null,
       "max_height": null,
       "max_width": null,
       "min_height": null,
       "min_width": null,
       "object_fit": null,
       "object_position": null,
       "order": null,
       "overflow": null,
       "overflow_x": null,
       "overflow_y": null,
       "padding": null,
       "right": null,
       "top": null,
       "visibility": null,
       "width": null
      }
     },
     "ad4839e6395b440e8f5a3d2f51968382": {
      "model_module": "@jupyter-widgets/controls",
      "model_module_version": "1.5.0",
      "model_name": "HTMLModel",
      "state": {
       "_dom_classes": [],
       "_model_module": "@jupyter-widgets/controls",
       "_model_module_version": "1.5.0",
       "_model_name": "HTMLModel",
       "_view_count": null,
       "_view_module": "@jupyter-widgets/controls",
       "_view_module_version": "1.5.0",
       "_view_name": "HTMLView",
       "description": "",
       "description_tooltip": null,
       "layout": "IPY_MODEL_648667f71e6a407995afcdb1ef6cb0bf",
       "placeholder": "​",
       "style": "IPY_MODEL_f8e3283648ca449dbf27e151b2c0bf7e",
       "value": "100%"
      }
     },
     "ae604788a85f4cb38be004234a0a0bcd": {
      "model_module": "@jupyter-widgets/controls",
      "model_module_version": "1.5.0",
      "model_name": "HTMLModel",
      "state": {
       "_dom_classes": [],
       "_model_module": "@jupyter-widgets/controls",
       "_model_module_version": "1.5.0",
       "_model_name": "HTMLModel",
       "_view_count": null,
       "_view_module": "@jupyter-widgets/controls",
       "_view_module_version": "1.5.0",
       "_view_name": "HTMLView",
       "description": "",
       "description_tooltip": null,
       "layout": "IPY_MODEL_fbc1356cb2d848aab6ce8d138408c17e",
       "placeholder": "​",
       "style": "IPY_MODEL_b161db64cee24a3b8ef3b3acc0f07f1f",
       "value": "100%"
      }
     },
     "af394e201add46e9abe472f9a490a8be": {
      "model_module": "@jupyter-widgets/base",
      "model_module_version": "1.2.0",
      "model_name": "LayoutModel",
      "state": {
       "_model_module": "@jupyter-widgets/base",
       "_model_module_version": "1.2.0",
       "_model_name": "LayoutModel",
       "_view_count": null,
       "_view_module": "@jupyter-widgets/base",
       "_view_module_version": "1.2.0",
       "_view_name": "LayoutView",
       "align_content": null,
       "align_items": null,
       "align_self": null,
       "border": null,
       "bottom": null,
       "display": null,
       "flex": null,
       "flex_flow": null,
       "grid_area": null,
       "grid_auto_columns": null,
       "grid_auto_flow": null,
       "grid_auto_rows": null,
       "grid_column": null,
       "grid_gap": null,
       "grid_row": null,
       "grid_template_areas": null,
       "grid_template_columns": null,
       "grid_template_rows": null,
       "height": null,
       "justify_content": null,
       "justify_items": null,
       "left": null,
       "margin": null,
       "max_height": null,
       "max_width": null,
       "min_height": null,
       "min_width": null,
       "object_fit": null,
       "object_position": null,
       "order": null,
       "overflow": null,
       "overflow_x": null,
       "overflow_y": null,
       "padding": null,
       "right": null,
       "top": null,
       "visibility": null,
       "width": null
      }
     },
     "b161db64cee24a3b8ef3b3acc0f07f1f": {
      "model_module": "@jupyter-widgets/controls",
      "model_module_version": "1.5.0",
      "model_name": "DescriptionStyleModel",
      "state": {
       "_model_module": "@jupyter-widgets/controls",
       "_model_module_version": "1.5.0",
       "_model_name": "DescriptionStyleModel",
       "_view_count": null,
       "_view_module": "@jupyter-widgets/base",
       "_view_module_version": "1.2.0",
       "_view_name": "StyleView",
       "description_width": ""
      }
     },
     "b585d0a1a2a7487ba4360ef8c7cb5757": {
      "model_module": "@jupyter-widgets/controls",
      "model_module_version": "1.5.0",
      "model_name": "HTMLModel",
      "state": {
       "_dom_classes": [],
       "_model_module": "@jupyter-widgets/controls",
       "_model_module_version": "1.5.0",
       "_model_name": "HTMLModel",
       "_view_count": null,
       "_view_module": "@jupyter-widgets/controls",
       "_view_module_version": "1.5.0",
       "_view_name": "HTMLView",
       "description": "",
       "description_tooltip": null,
       "layout": "IPY_MODEL_a981a4c6d45441b2a001e9e808248bf4",
       "placeholder": "​",
       "style": "IPY_MODEL_77702e4696574be9926696e9e395bf98",
       "value": "100%"
      }
     },
     "b7add2aa990c4d9ebc919b90a8540797": {
      "model_module": "@jupyter-widgets/base",
      "model_module_version": "1.2.0",
      "model_name": "LayoutModel",
      "state": {
       "_model_module": "@jupyter-widgets/base",
       "_model_module_version": "1.2.0",
       "_model_name": "LayoutModel",
       "_view_count": null,
       "_view_module": "@jupyter-widgets/base",
       "_view_module_version": "1.2.0",
       "_view_name": "LayoutView",
       "align_content": null,
       "align_items": null,
       "align_self": null,
       "border": null,
       "bottom": null,
       "display": null,
       "flex": null,
       "flex_flow": null,
       "grid_area": null,
       "grid_auto_columns": null,
       "grid_auto_flow": null,
       "grid_auto_rows": null,
       "grid_column": null,
       "grid_gap": null,
       "grid_row": null,
       "grid_template_areas": null,
       "grid_template_columns": null,
       "grid_template_rows": null,
       "height": null,
       "justify_content": null,
       "justify_items": null,
       "left": null,
       "margin": null,
       "max_height": null,
       "max_width": null,
       "min_height": null,
       "min_width": null,
       "object_fit": null,
       "object_position": null,
       "order": null,
       "overflow": null,
       "overflow_x": null,
       "overflow_y": null,
       "padding": null,
       "right": null,
       "top": null,
       "visibility": null,
       "width": null
      }
     },
     "b969b78ec47d44d6a065d37b60135e63": {
      "model_module": "@jupyter-widgets/controls",
      "model_module_version": "1.5.0",
      "model_name": "DescriptionStyleModel",
      "state": {
       "_model_module": "@jupyter-widgets/controls",
       "_model_module_version": "1.5.0",
       "_model_name": "DescriptionStyleModel",
       "_view_count": null,
       "_view_module": "@jupyter-widgets/base",
       "_view_module_version": "1.2.0",
       "_view_name": "StyleView",
       "description_width": ""
      }
     },
     "b99ebe0c25af45d58544ebac40afcd32": {
      "model_module": "@jupyter-widgets/controls",
      "model_module_version": "1.5.0",
      "model_name": "HBoxModel",
      "state": {
       "_dom_classes": [],
       "_model_module": "@jupyter-widgets/controls",
       "_model_module_version": "1.5.0",
       "_model_name": "HBoxModel",
       "_view_count": null,
       "_view_module": "@jupyter-widgets/controls",
       "_view_module_version": "1.5.0",
       "_view_name": "HBoxView",
       "box_style": "",
       "children": [
        "IPY_MODEL_3f0489754d6a4ba7bd8ffe3e2e363df6",
        "IPY_MODEL_2a7006517ace417f8a37e0723be586d8",
        "IPY_MODEL_3dcf80ce06424d31b606a417e48712c7"
       ],
       "layout": "IPY_MODEL_7e081b18cb944772bfc95e10ca408176"
      }
     },
     "b9a06ab632b941efb1865464f024410d": {
      "model_module": "@jupyter-widgets/base",
      "model_module_version": "1.2.0",
      "model_name": "LayoutModel",
      "state": {
       "_model_module": "@jupyter-widgets/base",
       "_model_module_version": "1.2.0",
       "_model_name": "LayoutModel",
       "_view_count": null,
       "_view_module": "@jupyter-widgets/base",
       "_view_module_version": "1.2.0",
       "_view_name": "LayoutView",
       "align_content": null,
       "align_items": null,
       "align_self": null,
       "border": null,
       "bottom": null,
       "display": null,
       "flex": null,
       "flex_flow": null,
       "grid_area": null,
       "grid_auto_columns": null,
       "grid_auto_flow": null,
       "grid_auto_rows": null,
       "grid_column": null,
       "grid_gap": null,
       "grid_row": null,
       "grid_template_areas": null,
       "grid_template_columns": null,
       "grid_template_rows": null,
       "height": null,
       "justify_content": null,
       "justify_items": null,
       "left": null,
       "margin": null,
       "max_height": null,
       "max_width": null,
       "min_height": null,
       "min_width": null,
       "object_fit": null,
       "object_position": null,
       "order": null,
       "overflow": null,
       "overflow_x": null,
       "overflow_y": null,
       "padding": null,
       "right": null,
       "top": null,
       "visibility": null,
       "width": null
      }
     },
     "c0cb2de5915e4c47915aa66601c341f6": {
      "model_module": "@jupyter-widgets/base",
      "model_module_version": "1.2.0",
      "model_name": "LayoutModel",
      "state": {
       "_model_module": "@jupyter-widgets/base",
       "_model_module_version": "1.2.0",
       "_model_name": "LayoutModel",
       "_view_count": null,
       "_view_module": "@jupyter-widgets/base",
       "_view_module_version": "1.2.0",
       "_view_name": "LayoutView",
       "align_content": null,
       "align_items": null,
       "align_self": null,
       "border": null,
       "bottom": null,
       "display": null,
       "flex": null,
       "flex_flow": null,
       "grid_area": null,
       "grid_auto_columns": null,
       "grid_auto_flow": null,
       "grid_auto_rows": null,
       "grid_column": null,
       "grid_gap": null,
       "grid_row": null,
       "grid_template_areas": null,
       "grid_template_columns": null,
       "grid_template_rows": null,
       "height": null,
       "justify_content": null,
       "justify_items": null,
       "left": null,
       "margin": null,
       "max_height": null,
       "max_width": null,
       "min_height": null,
       "min_width": null,
       "object_fit": null,
       "object_position": null,
       "order": null,
       "overflow": null,
       "overflow_x": null,
       "overflow_y": null,
       "padding": null,
       "right": null,
       "top": null,
       "visibility": null,
       "width": null
      }
     },
     "c1c3f5d25e764629a51e415d019772b1": {
      "model_module": "@jupyter-widgets/base",
      "model_module_version": "1.2.0",
      "model_name": "LayoutModel",
      "state": {
       "_model_module": "@jupyter-widgets/base",
       "_model_module_version": "1.2.0",
       "_model_name": "LayoutModel",
       "_view_count": null,
       "_view_module": "@jupyter-widgets/base",
       "_view_module_version": "1.2.0",
       "_view_name": "LayoutView",
       "align_content": null,
       "align_items": null,
       "align_self": null,
       "border": null,
       "bottom": null,
       "display": null,
       "flex": null,
       "flex_flow": null,
       "grid_area": null,
       "grid_auto_columns": null,
       "grid_auto_flow": null,
       "grid_auto_rows": null,
       "grid_column": null,
       "grid_gap": null,
       "grid_row": null,
       "grid_template_areas": null,
       "grid_template_columns": null,
       "grid_template_rows": null,
       "height": null,
       "justify_content": null,
       "justify_items": null,
       "left": null,
       "margin": null,
       "max_height": null,
       "max_width": null,
       "min_height": null,
       "min_width": null,
       "object_fit": null,
       "object_position": null,
       "order": null,
       "overflow": null,
       "overflow_x": null,
       "overflow_y": null,
       "padding": null,
       "right": null,
       "top": null,
       "visibility": null,
       "width": null
      }
     },
     "c28386e43cc14a54905f1f3d3ebc2eb5": {
      "model_module": "@jupyter-widgets/controls",
      "model_module_version": "1.5.0",
      "model_name": "DescriptionStyleModel",
      "state": {
       "_model_module": "@jupyter-widgets/controls",
       "_model_module_version": "1.5.0",
       "_model_name": "DescriptionStyleModel",
       "_view_count": null,
       "_view_module": "@jupyter-widgets/base",
       "_view_module_version": "1.2.0",
       "_view_name": "StyleView",
       "description_width": ""
      }
     },
     "c3fbae9daf3a49e0976c608835f1532d": {
      "model_module": "@jupyter-widgets/base",
      "model_module_version": "1.2.0",
      "model_name": "LayoutModel",
      "state": {
       "_model_module": "@jupyter-widgets/base",
       "_model_module_version": "1.2.0",
       "_model_name": "LayoutModel",
       "_view_count": null,
       "_view_module": "@jupyter-widgets/base",
       "_view_module_version": "1.2.0",
       "_view_name": "LayoutView",
       "align_content": null,
       "align_items": null,
       "align_self": null,
       "border": null,
       "bottom": null,
       "display": null,
       "flex": null,
       "flex_flow": null,
       "grid_area": null,
       "grid_auto_columns": null,
       "grid_auto_flow": null,
       "grid_auto_rows": null,
       "grid_column": null,
       "grid_gap": null,
       "grid_row": null,
       "grid_template_areas": null,
       "grid_template_columns": null,
       "grid_template_rows": null,
       "height": null,
       "justify_content": null,
       "justify_items": null,
       "left": null,
       "margin": null,
       "max_height": null,
       "max_width": null,
       "min_height": null,
       "min_width": null,
       "object_fit": null,
       "object_position": null,
       "order": null,
       "overflow": null,
       "overflow_x": null,
       "overflow_y": null,
       "padding": null,
       "right": null,
       "top": null,
       "visibility": null,
       "width": null
      }
     },
     "c89b8b828822404daf1fa685e319ba8d": {
      "model_module": "@jupyter-widgets/base",
      "model_module_version": "1.2.0",
      "model_name": "LayoutModel",
      "state": {
       "_model_module": "@jupyter-widgets/base",
       "_model_module_version": "1.2.0",
       "_model_name": "LayoutModel",
       "_view_count": null,
       "_view_module": "@jupyter-widgets/base",
       "_view_module_version": "1.2.0",
       "_view_name": "LayoutView",
       "align_content": null,
       "align_items": null,
       "align_self": null,
       "border": null,
       "bottom": null,
       "display": null,
       "flex": null,
       "flex_flow": null,
       "grid_area": null,
       "grid_auto_columns": null,
       "grid_auto_flow": null,
       "grid_auto_rows": null,
       "grid_column": null,
       "grid_gap": null,
       "grid_row": null,
       "grid_template_areas": null,
       "grid_template_columns": null,
       "grid_template_rows": null,
       "height": null,
       "justify_content": null,
       "justify_items": null,
       "left": null,
       "margin": null,
       "max_height": null,
       "max_width": null,
       "min_height": null,
       "min_width": null,
       "object_fit": null,
       "object_position": null,
       "order": null,
       "overflow": null,
       "overflow_x": null,
       "overflow_y": null,
       "padding": null,
       "right": null,
       "top": null,
       "visibility": null,
       "width": null
      }
     },
     "cc1c54fb239c4f7cbc74c882e87de564": {
      "model_module": "@jupyter-widgets/controls",
      "model_module_version": "1.5.0",
      "model_name": "FloatProgressModel",
      "state": {
       "_dom_classes": [],
       "_model_module": "@jupyter-widgets/controls",
       "_model_module_version": "1.5.0",
       "_model_name": "FloatProgressModel",
       "_view_count": null,
       "_view_module": "@jupyter-widgets/controls",
       "_view_module_version": "1.5.0",
       "_view_name": "ProgressView",
       "bar_style": "success",
       "description": "",
       "description_tooltip": null,
       "layout": "IPY_MODEL_30bdcff68a604ae6a2d32320c9fb1501",
       "max": 657,
       "min": 0,
       "orientation": "horizontal",
       "style": "IPY_MODEL_d5ccdcbcfd8d46eca55328bb6b5a1406",
       "value": 657
      }
     },
     "cdc6a07e4943422c9146aa8c5532a3eb": {
      "model_module": "@jupyter-widgets/controls",
      "model_module_version": "1.5.0",
      "model_name": "ProgressStyleModel",
      "state": {
       "_model_module": "@jupyter-widgets/controls",
       "_model_module_version": "1.5.0",
       "_model_name": "ProgressStyleModel",
       "_view_count": null,
       "_view_module": "@jupyter-widgets/base",
       "_view_module_version": "1.2.0",
       "_view_name": "StyleView",
       "bar_color": null,
       "description_width": ""
      }
     },
     "ce22d35cf22e4e23b90cf5dce9668ef9": {
      "model_module": "@jupyter-widgets/controls",
      "model_module_version": "1.5.0",
      "model_name": "ProgressStyleModel",
      "state": {
       "_model_module": "@jupyter-widgets/controls",
       "_model_module_version": "1.5.0",
       "_model_name": "ProgressStyleModel",
       "_view_count": null,
       "_view_module": "@jupyter-widgets/base",
       "_view_module_version": "1.2.0",
       "_view_name": "StyleView",
       "bar_color": null,
       "description_width": ""
      }
     },
     "d13ba0fb53a04cd7ba9f92d2d5de30cf": {
      "model_module": "@jupyter-widgets/controls",
      "model_module_version": "1.5.0",
      "model_name": "DescriptionStyleModel",
      "state": {
       "_model_module": "@jupyter-widgets/controls",
       "_model_module_version": "1.5.0",
       "_model_name": "DescriptionStyleModel",
       "_view_count": null,
       "_view_module": "@jupyter-widgets/base",
       "_view_module_version": "1.2.0",
       "_view_name": "StyleView",
       "description_width": ""
      }
     },
     "d1f48dd8473f4296a228cb468b43f5ed": {
      "model_module": "@jupyter-widgets/controls",
      "model_module_version": "1.5.0",
      "model_name": "FloatProgressModel",
      "state": {
       "_dom_classes": [],
       "_model_module": "@jupyter-widgets/controls",
       "_model_module_version": "1.5.0",
       "_model_name": "FloatProgressModel",
       "_view_count": null,
       "_view_module": "@jupyter-widgets/controls",
       "_view_module_version": "1.5.0",
       "_view_name": "ProgressView",
       "bar_style": "success",
       "description": "",
       "description_tooltip": null,
       "layout": "IPY_MODEL_b9a06ab632b941efb1865464f024410d",
       "max": 657,
       "min": 0,
       "orientation": "horizontal",
       "style": "IPY_MODEL_8aa10525c89145a78ba9fdbb838c0655",
       "value": 657
      }
     },
     "d351317f45b04f2cb617ceed330ba2da": {
      "model_module": "@jupyter-widgets/controls",
      "model_module_version": "1.5.0",
      "model_name": "HTMLModel",
      "state": {
       "_dom_classes": [],
       "_model_module": "@jupyter-widgets/controls",
       "_model_module_version": "1.5.0",
       "_model_name": "HTMLModel",
       "_view_count": null,
       "_view_module": "@jupyter-widgets/controls",
       "_view_module_version": "1.5.0",
       "_view_name": "HTMLView",
       "description": "",
       "description_tooltip": null,
       "layout": "IPY_MODEL_6f2bfe34a58d47918c653096fc0e62d6",
       "placeholder": "​",
       "style": "IPY_MODEL_7ff72114af42477cb801afa08abee6e0",
       "value": "100%"
      }
     },
     "d46e2b52ee0e427a86af896303f0e9fb": {
      "model_module": "@jupyter-widgets/controls",
      "model_module_version": "1.5.0",
      "model_name": "HTMLModel",
      "state": {
       "_dom_classes": [],
       "_model_module": "@jupyter-widgets/controls",
       "_model_module_version": "1.5.0",
       "_model_name": "HTMLModel",
       "_view_count": null,
       "_view_module": "@jupyter-widgets/controls",
       "_view_module_version": "1.5.0",
       "_view_name": "HTMLView",
       "description": "",
       "description_tooltip": null,
       "layout": "IPY_MODEL_11f573c710de4f12b363ab29be9cc1b1",
       "placeholder": "​",
       "style": "IPY_MODEL_1de68e6dd372473c82f719d4fcaea276",
       "value": " 657/657 [00:24&lt;00:00, 28.84it/s]"
      }
     },
     "d5865a50b06f4957881cfc2c9e8f5b9f": {
      "model_module": "@jupyter-widgets/controls",
      "model_module_version": "1.5.0",
      "model_name": "DescriptionStyleModel",
      "state": {
       "_model_module": "@jupyter-widgets/controls",
       "_model_module_version": "1.5.0",
       "_model_name": "DescriptionStyleModel",
       "_view_count": null,
       "_view_module": "@jupyter-widgets/base",
       "_view_module_version": "1.2.0",
       "_view_name": "StyleView",
       "description_width": ""
      }
     },
     "d5ccdcbcfd8d46eca55328bb6b5a1406": {
      "model_module": "@jupyter-widgets/controls",
      "model_module_version": "1.5.0",
      "model_name": "ProgressStyleModel",
      "state": {
       "_model_module": "@jupyter-widgets/controls",
       "_model_module_version": "1.5.0",
       "_model_name": "ProgressStyleModel",
       "_view_count": null,
       "_view_module": "@jupyter-widgets/base",
       "_view_module_version": "1.2.0",
       "_view_name": "StyleView",
       "bar_color": null,
       "description_width": ""
      }
     },
     "d61b1613dcf446269922d16e5ca1b9e9": {
      "model_module": "@jupyter-widgets/controls",
      "model_module_version": "1.5.0",
      "model_name": "FloatProgressModel",
      "state": {
       "_dom_classes": [],
       "_model_module": "@jupyter-widgets/controls",
       "_model_module_version": "1.5.0",
       "_model_name": "FloatProgressModel",
       "_view_count": null,
       "_view_module": "@jupyter-widgets/controls",
       "_view_module_version": "1.5.0",
       "_view_name": "ProgressView",
       "bar_style": "success",
       "description": "",
       "description_tooltip": null,
       "layout": "IPY_MODEL_45ecabcaf96f49fe9d3bb2f79f5e60c5",
       "max": 657,
       "min": 0,
       "orientation": "horizontal",
       "style": "IPY_MODEL_dbd9affce6d54a01b095ae8da2baae4e",
       "value": 657
      }
     },
     "d74d423226f3469b9f8e2be0241729bf": {
      "model_module": "@jupyter-widgets/controls",
      "model_module_version": "1.5.0",
      "model_name": "ProgressStyleModel",
      "state": {
       "_model_module": "@jupyter-widgets/controls",
       "_model_module_version": "1.5.0",
       "_model_name": "ProgressStyleModel",
       "_view_count": null,
       "_view_module": "@jupyter-widgets/base",
       "_view_module_version": "1.2.0",
       "_view_name": "StyleView",
       "bar_color": null,
       "description_width": ""
      }
     },
     "d939e5f57e644b92b402d580752deba2": {
      "model_module": "@jupyter-widgets/controls",
      "model_module_version": "1.5.0",
      "model_name": "DescriptionStyleModel",
      "state": {
       "_model_module": "@jupyter-widgets/controls",
       "_model_module_version": "1.5.0",
       "_model_name": "DescriptionStyleModel",
       "_view_count": null,
       "_view_module": "@jupyter-widgets/base",
       "_view_module_version": "1.2.0",
       "_view_name": "StyleView",
       "description_width": ""
      }
     },
     "da056fc5555842799d417845736e15cb": {
      "model_module": "@jupyter-widgets/controls",
      "model_module_version": "1.5.0",
      "model_name": "HTMLModel",
      "state": {
       "_dom_classes": [],
       "_model_module": "@jupyter-widgets/controls",
       "_model_module_version": "1.5.0",
       "_model_name": "HTMLModel",
       "_view_count": null,
       "_view_module": "@jupyter-widgets/controls",
       "_view_module_version": "1.5.0",
       "_view_name": "HTMLView",
       "description": "",
       "description_tooltip": null,
       "layout": "IPY_MODEL_38fc601aca384a1385b0b1bb1964a3d0",
       "placeholder": "​",
       "style": "IPY_MODEL_364ac99f14e2414484d26bf0e7533d9c",
       "value": " 657/657 [00:24&lt;00:00, 28.87it/s]"
      }
     },
     "dbd9affce6d54a01b095ae8da2baae4e": {
      "model_module": "@jupyter-widgets/controls",
      "model_module_version": "1.5.0",
      "model_name": "ProgressStyleModel",
      "state": {
       "_model_module": "@jupyter-widgets/controls",
       "_model_module_version": "1.5.0",
       "_model_name": "ProgressStyleModel",
       "_view_count": null,
       "_view_module": "@jupyter-widgets/base",
       "_view_module_version": "1.2.0",
       "_view_name": "StyleView",
       "bar_color": null,
       "description_width": ""
      }
     },
     "dd89934f6e3545c7af0ad14125bc65e1": {
      "model_module": "@jupyter-widgets/base",
      "model_module_version": "1.2.0",
      "model_name": "LayoutModel",
      "state": {
       "_model_module": "@jupyter-widgets/base",
       "_model_module_version": "1.2.0",
       "_model_name": "LayoutModel",
       "_view_count": null,
       "_view_module": "@jupyter-widgets/base",
       "_view_module_version": "1.2.0",
       "_view_name": "LayoutView",
       "align_content": null,
       "align_items": null,
       "align_self": null,
       "border": null,
       "bottom": null,
       "display": null,
       "flex": null,
       "flex_flow": null,
       "grid_area": null,
       "grid_auto_columns": null,
       "grid_auto_flow": null,
       "grid_auto_rows": null,
       "grid_column": null,
       "grid_gap": null,
       "grid_row": null,
       "grid_template_areas": null,
       "grid_template_columns": null,
       "grid_template_rows": null,
       "height": null,
       "justify_content": null,
       "justify_items": null,
       "left": null,
       "margin": null,
       "max_height": null,
       "max_width": null,
       "min_height": null,
       "min_width": null,
       "object_fit": null,
       "object_position": null,
       "order": null,
       "overflow": null,
       "overflow_x": null,
       "overflow_y": null,
       "padding": null,
       "right": null,
       "top": null,
       "visibility": null,
       "width": null
      }
     },
     "e398f09a63ed4f60b6bb7f91c6f3a835": {
      "model_module": "@jupyter-widgets/controls",
      "model_module_version": "1.5.0",
      "model_name": "HTMLModel",
      "state": {
       "_dom_classes": [],
       "_model_module": "@jupyter-widgets/controls",
       "_model_module_version": "1.5.0",
       "_model_name": "HTMLModel",
       "_view_count": null,
       "_view_module": "@jupyter-widgets/controls",
       "_view_module_version": "1.5.0",
       "_view_name": "HTMLView",
       "description": "",
       "description_tooltip": null,
       "layout": "IPY_MODEL_2bb4a38ebe974b2db48cdb3e18998ba4",
       "placeholder": "​",
       "style": "IPY_MODEL_b969b78ec47d44d6a065d37b60135e63",
       "value": "100%"
      }
     },
     "e57c96f860e1406baabf087fd89c97c5": {
      "model_module": "@jupyter-widgets/controls",
      "model_module_version": "1.5.0",
      "model_name": "DescriptionStyleModel",
      "state": {
       "_model_module": "@jupyter-widgets/controls",
       "_model_module_version": "1.5.0",
       "_model_name": "DescriptionStyleModel",
       "_view_count": null,
       "_view_module": "@jupyter-widgets/base",
       "_view_module_version": "1.2.0",
       "_view_name": "StyleView",
       "description_width": ""
      }
     },
     "e6bc4981adbe45f285d3242c029cec9f": {
      "model_module": "@jupyter-widgets/controls",
      "model_module_version": "1.5.0",
      "model_name": "HBoxModel",
      "state": {
       "_dom_classes": [],
       "_model_module": "@jupyter-widgets/controls",
       "_model_module_version": "1.5.0",
       "_model_name": "HBoxModel",
       "_view_count": null,
       "_view_module": "@jupyter-widgets/controls",
       "_view_module_version": "1.5.0",
       "_view_name": "HBoxView",
       "box_style": "",
       "children": [
        "IPY_MODEL_3073c1ae09e94b9cb65521636157ceb8",
        "IPY_MODEL_1afcaba751824a65a2a07b22a580e31a",
        "IPY_MODEL_985cf4c41a7f46a7866397b336b84045"
       ],
       "layout": "IPY_MODEL_dd89934f6e3545c7af0ad14125bc65e1"
      }
     },
     "e7c39ad74f1943449f98430722ab57db": {
      "model_module": "@jupyter-widgets/base",
      "model_module_version": "1.2.0",
      "model_name": "LayoutModel",
      "state": {
       "_model_module": "@jupyter-widgets/base",
       "_model_module_version": "1.2.0",
       "_model_name": "LayoutModel",
       "_view_count": null,
       "_view_module": "@jupyter-widgets/base",
       "_view_module_version": "1.2.0",
       "_view_name": "LayoutView",
       "align_content": null,
       "align_items": null,
       "align_self": null,
       "border": null,
       "bottom": null,
       "display": null,
       "flex": null,
       "flex_flow": null,
       "grid_area": null,
       "grid_auto_columns": null,
       "grid_auto_flow": null,
       "grid_auto_rows": null,
       "grid_column": null,
       "grid_gap": null,
       "grid_row": null,
       "grid_template_areas": null,
       "grid_template_columns": null,
       "grid_template_rows": null,
       "height": null,
       "justify_content": null,
       "justify_items": null,
       "left": null,
       "margin": null,
       "max_height": null,
       "max_width": null,
       "min_height": null,
       "min_width": null,
       "object_fit": null,
       "object_position": null,
       "order": null,
       "overflow": null,
       "overflow_x": null,
       "overflow_y": null,
       "padding": null,
       "right": null,
       "top": null,
       "visibility": null,
       "width": null
      }
     },
     "e8f7d7f183b7443f9ff69e947b247e37": {
      "model_module": "@jupyter-widgets/base",
      "model_module_version": "1.2.0",
      "model_name": "LayoutModel",
      "state": {
       "_model_module": "@jupyter-widgets/base",
       "_model_module_version": "1.2.0",
       "_model_name": "LayoutModel",
       "_view_count": null,
       "_view_module": "@jupyter-widgets/base",
       "_view_module_version": "1.2.0",
       "_view_name": "LayoutView",
       "align_content": null,
       "align_items": null,
       "align_self": null,
       "border": null,
       "bottom": null,
       "display": null,
       "flex": null,
       "flex_flow": null,
       "grid_area": null,
       "grid_auto_columns": null,
       "grid_auto_flow": null,
       "grid_auto_rows": null,
       "grid_column": null,
       "grid_gap": null,
       "grid_row": null,
       "grid_template_areas": null,
       "grid_template_columns": null,
       "grid_template_rows": null,
       "height": null,
       "justify_content": null,
       "justify_items": null,
       "left": null,
       "margin": null,
       "max_height": null,
       "max_width": null,
       "min_height": null,
       "min_width": null,
       "object_fit": null,
       "object_position": null,
       "order": null,
       "overflow": null,
       "overflow_x": null,
       "overflow_y": null,
       "padding": null,
       "right": null,
       "top": null,
       "visibility": null,
       "width": null
      }
     },
     "ea331473c47c44f1b3da46f389e563a3": {
      "model_module": "@jupyter-widgets/controls",
      "model_module_version": "1.5.0",
      "model_name": "HBoxModel",
      "state": {
       "_dom_classes": [],
       "_model_module": "@jupyter-widgets/controls",
       "_model_module_version": "1.5.0",
       "_model_name": "HBoxModel",
       "_view_count": null,
       "_view_module": "@jupyter-widgets/controls",
       "_view_module_version": "1.5.0",
       "_view_name": "HBoxView",
       "box_style": "",
       "children": [
        "IPY_MODEL_7291ef19dac2469888222ed9ff26fa07",
        "IPY_MODEL_d1f48dd8473f4296a228cb468b43f5ed",
        "IPY_MODEL_8962954ef0964db3938a2c5b27f93dbe"
       ],
       "layout": "IPY_MODEL_59dd5d7188874e0fbfee77c142a85b81"
      }
     },
     "eb6cf6b0cb7a42fd8542a0bc92ecb9a2": {
      "model_module": "@jupyter-widgets/controls",
      "model_module_version": "1.5.0",
      "model_name": "FloatProgressModel",
      "state": {
       "_dom_classes": [],
       "_model_module": "@jupyter-widgets/controls",
       "_model_module_version": "1.5.0",
       "_model_name": "FloatProgressModel",
       "_view_count": null,
       "_view_module": "@jupyter-widgets/controls",
       "_view_module_version": "1.5.0",
       "_view_name": "ProgressView",
       "bar_style": "success",
       "description": "",
       "description_tooltip": null,
       "layout": "IPY_MODEL_759efe7059604ad9905eb7f5f253b24f",
       "max": 657,
       "min": 0,
       "orientation": "horizontal",
       "style": "IPY_MODEL_ef3acb1eec954be386381553357d1173",
       "value": 657
      }
     },
     "ef3acb1eec954be386381553357d1173": {
      "model_module": "@jupyter-widgets/controls",
      "model_module_version": "1.5.0",
      "model_name": "ProgressStyleModel",
      "state": {
       "_model_module": "@jupyter-widgets/controls",
       "_model_module_version": "1.5.0",
       "_model_name": "ProgressStyleModel",
       "_view_count": null,
       "_view_module": "@jupyter-widgets/base",
       "_view_module_version": "1.2.0",
       "_view_name": "StyleView",
       "bar_color": null,
       "description_width": ""
      }
     },
     "f0905d4b3a4348a5b07c8e262e4b77c7": {
      "model_module": "@jupyter-widgets/base",
      "model_module_version": "1.2.0",
      "model_name": "LayoutModel",
      "state": {
       "_model_module": "@jupyter-widgets/base",
       "_model_module_version": "1.2.0",
       "_model_name": "LayoutModel",
       "_view_count": null,
       "_view_module": "@jupyter-widgets/base",
       "_view_module_version": "1.2.0",
       "_view_name": "LayoutView",
       "align_content": null,
       "align_items": null,
       "align_self": null,
       "border": null,
       "bottom": null,
       "display": null,
       "flex": null,
       "flex_flow": null,
       "grid_area": null,
       "grid_auto_columns": null,
       "grid_auto_flow": null,
       "grid_auto_rows": null,
       "grid_column": null,
       "grid_gap": null,
       "grid_row": null,
       "grid_template_areas": null,
       "grid_template_columns": null,
       "grid_template_rows": null,
       "height": null,
       "justify_content": null,
       "justify_items": null,
       "left": null,
       "margin": null,
       "max_height": null,
       "max_width": null,
       "min_height": null,
       "min_width": null,
       "object_fit": null,
       "object_position": null,
       "order": null,
       "overflow": null,
       "overflow_x": null,
       "overflow_y": null,
       "padding": null,
       "right": null,
       "top": null,
       "visibility": null,
       "width": null
      }
     },
     "f0dda3d346b045cb9ef179271cbfa74e": {
      "model_module": "@jupyter-widgets/controls",
      "model_module_version": "1.5.0",
      "model_name": "FloatProgressModel",
      "state": {
       "_dom_classes": [],
       "_model_module": "@jupyter-widgets/controls",
       "_model_module_version": "1.5.0",
       "_model_name": "FloatProgressModel",
       "_view_count": null,
       "_view_module": "@jupyter-widgets/controls",
       "_view_module_version": "1.5.0",
       "_view_name": "ProgressView",
       "bar_style": "success",
       "description": "",
       "description_tooltip": null,
       "layout": "IPY_MODEL_b7add2aa990c4d9ebc919b90a8540797",
       "max": 657,
       "min": 0,
       "orientation": "horizontal",
       "style": "IPY_MODEL_cdc6a07e4943422c9146aa8c5532a3eb",
       "value": 657
      }
     },
     "f52c621fc9934470866c142bd43efbfb": {
      "model_module": "@jupyter-widgets/controls",
      "model_module_version": "1.5.0",
      "model_name": "HTMLModel",
      "state": {
       "_dom_classes": [],
       "_model_module": "@jupyter-widgets/controls",
       "_model_module_version": "1.5.0",
       "_model_name": "HTMLModel",
       "_view_count": null,
       "_view_module": "@jupyter-widgets/controls",
       "_view_module_version": "1.5.0",
       "_view_name": "HTMLView",
       "description": "",
       "description_tooltip": null,
       "layout": "IPY_MODEL_7213e5949dfa4269ae3c66338879de84",
       "placeholder": "​",
       "style": "IPY_MODEL_d939e5f57e644b92b402d580752deba2",
       "value": " 657/657 [00:25&lt;00:00, 28.77it/s]"
      }
     },
     "f8e3283648ca449dbf27e151b2c0bf7e": {
      "model_module": "@jupyter-widgets/controls",
      "model_module_version": "1.5.0",
      "model_name": "DescriptionStyleModel",
      "state": {
       "_model_module": "@jupyter-widgets/controls",
       "_model_module_version": "1.5.0",
       "_model_name": "DescriptionStyleModel",
       "_view_count": null,
       "_view_module": "@jupyter-widgets/base",
       "_view_module_version": "1.2.0",
       "_view_name": "StyleView",
       "description_width": ""
      }
     },
     "fbc1356cb2d848aab6ce8d138408c17e": {
      "model_module": "@jupyter-widgets/base",
      "model_module_version": "1.2.0",
      "model_name": "LayoutModel",
      "state": {
       "_model_module": "@jupyter-widgets/base",
       "_model_module_version": "1.2.0",
       "_model_name": "LayoutModel",
       "_view_count": null,
       "_view_module": "@jupyter-widgets/base",
       "_view_module_version": "1.2.0",
       "_view_name": "LayoutView",
       "align_content": null,
       "align_items": null,
       "align_self": null,
       "border": null,
       "bottom": null,
       "display": null,
       "flex": null,
       "flex_flow": null,
       "grid_area": null,
       "grid_auto_columns": null,
       "grid_auto_flow": null,
       "grid_auto_rows": null,
       "grid_column": null,
       "grid_gap": null,
       "grid_row": null,
       "grid_template_areas": null,
       "grid_template_columns": null,
       "grid_template_rows": null,
       "height": null,
       "justify_content": null,
       "justify_items": null,
       "left": null,
       "margin": null,
       "max_height": null,
       "max_width": null,
       "min_height": null,
       "min_width": null,
       "object_fit": null,
       "object_position": null,
       "order": null,
       "overflow": null,
       "overflow_x": null,
       "overflow_y": null,
       "padding": null,
       "right": null,
       "top": null,
       "visibility": null,
       "width": null
      }
     },
     "fbcddbd9b6614d67ae4ca0b82fc331d1": {
      "model_module": "@jupyter-widgets/controls",
      "model_module_version": "1.5.0",
      "model_name": "ProgressStyleModel",
      "state": {
       "_model_module": "@jupyter-widgets/controls",
       "_model_module_version": "1.5.0",
       "_model_name": "ProgressStyleModel",
       "_view_count": null,
       "_view_module": "@jupyter-widgets/base",
       "_view_module_version": "1.2.0",
       "_view_name": "StyleView",
       "bar_color": null,
       "description_width": ""
      }
     }
    },
    "version_major": 2,
    "version_minor": 0
   }
  }
 },
 "nbformat": 4,
 "nbformat_minor": 5
}
